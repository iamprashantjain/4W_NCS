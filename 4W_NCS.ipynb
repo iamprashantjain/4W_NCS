{
 "cells": [
  {
   "cell_type": "code",
   "execution_count": 1,
   "id": "de4bd77c",
   "metadata": {},
   "outputs": [],
   "source": [
    "import pandas as pd\n",
    "import numpy as np\n",
    "import matplotlib.pyplot as plt\n",
    "import seaborn as sns\n",
    "from sklearn.model_selection import train_test_split\n",
    "from sklearn.preprocessing import OneHotEncoder\n",
    "from sklearn.model_selection import RandomizedSearchCV\n",
    "pd.set_option('display.float_format', lambda x: '%0.3f' % x)\n",
    "pd.set_option('display.max_columns',100)\n",
    "pd.set_option('display.max_rows',1000)\n",
    "import warnings\n",
    "warnings.filterwarnings('ignore')"
   ]
  },
  {
   "cell_type": "code",
   "execution_count": 2,
   "id": "772b313f",
   "metadata": {},
   "outputs": [],
   "source": [
    "df = pd.read_csv('_out_4w_12_21_ver2.csv')"
   ]
  },
  {
   "cell_type": "code",
   "execution_count": 3,
   "id": "2da6d674",
   "metadata": {},
   "outputs": [
    {
     "data": {
      "text/html": [
       "<div>\n",
       "<style scoped>\n",
       "    .dataframe tbody tr th:only-of-type {\n",
       "        vertical-align: middle;\n",
       "    }\n",
       "\n",
       "    .dataframe tbody tr th {\n",
       "        vertical-align: top;\n",
       "    }\n",
       "\n",
       "    .dataframe thead th {\n",
       "        text-align: right;\n",
       "    }\n",
       "</style>\n",
       "<table border=\"1\" class=\"dataframe\">\n",
       "  <thead>\n",
       "    <tr style=\"text-align: right;\">\n",
       "      <th></th>\n",
       "      <th>UniqueSerialNo</th>\n",
       "      <th>MAKE_NAME</th>\n",
       "      <th>Make_Clean</th>\n",
       "      <th>Model</th>\n",
       "      <th>Model_Clean</th>\n",
       "      <th>Variant</th>\n",
       "      <th>Variant_Clean</th>\n",
       "      <th>Fuel Type</th>\n",
       "      <th>Fuel_Clean</th>\n",
       "      <th>SOLD_DATE</th>\n",
       "      <th>MAKE YEAR</th>\n",
       "      <th>SOLD AMOUNT</th>\n",
       "      <th>4W_State_Clean</th>\n",
       "    </tr>\n",
       "  </thead>\n",
       "  <tbody>\n",
       "    <tr>\n",
       "      <th>0</th>\n",
       "      <td>S14062500378</td>\n",
       "      <td>TATA</td>\n",
       "      <td>TATA</td>\n",
       "      <td>SUMO VICTA</td>\n",
       "      <td>SUMOVICTA</td>\n",
       "      <td>LX</td>\n",
       "      <td>lx</td>\n",
       "      <td>Diesel</td>\n",
       "      <td>DIESEL</td>\n",
       "      <td>19-08-2015 00:00</td>\n",
       "      <td>2008</td>\n",
       "      <td>150000</td>\n",
       "      <td>Andhra Pradesh</td>\n",
       "    </tr>\n",
       "    <tr>\n",
       "      <th>1</th>\n",
       "      <td>S15071100272</td>\n",
       "      <td>MAHINDRA</td>\n",
       "      <td>MAHINDRA</td>\n",
       "      <td>BOLERO</td>\n",
       "      <td>BOLERO</td>\n",
       "      <td>SLX</td>\n",
       "      <td>slx</td>\n",
       "      <td>Diesel</td>\n",
       "      <td>DIESEL</td>\n",
       "      <td>26-12-2015 00:00</td>\n",
       "      <td>2008</td>\n",
       "      <td>261000</td>\n",
       "      <td>Andhra Pradesh</td>\n",
       "    </tr>\n",
       "    <tr>\n",
       "      <th>2</th>\n",
       "      <td>S15103000131</td>\n",
       "      <td>TATA</td>\n",
       "      <td>TATA</td>\n",
       "      <td>INDICA VISTA</td>\n",
       "      <td>INDICAVISTA</td>\n",
       "      <td>AQUA 1.4 TDI</td>\n",
       "      <td>aqua1.4tdi</td>\n",
       "      <td>Diesel</td>\n",
       "      <td>DIESEL</td>\n",
       "      <td>08-01-2016 00:00</td>\n",
       "      <td>2010</td>\n",
       "      <td>152000</td>\n",
       "      <td>Andhra Pradesh</td>\n",
       "    </tr>\n",
       "    <tr>\n",
       "      <th>3</th>\n",
       "      <td>S15090300123</td>\n",
       "      <td>TATA</td>\n",
       "      <td>TATA</td>\n",
       "      <td>INDICA VISTA</td>\n",
       "      <td>INDICAVISTA</td>\n",
       "      <td>TERRA QUADRAJET</td>\n",
       "      <td>terraquadrajetbsiii</td>\n",
       "      <td>Diesel</td>\n",
       "      <td>DIESEL</td>\n",
       "      <td>08-01-2016 00:00</td>\n",
       "      <td>2009</td>\n",
       "      <td>114000</td>\n",
       "      <td>Andhra Pradesh</td>\n",
       "    </tr>\n",
       "    <tr>\n",
       "      <th>4</th>\n",
       "      <td>S15111900409</td>\n",
       "      <td>MARUTI</td>\n",
       "      <td>MARUTI SUZUKI</td>\n",
       "      <td>800</td>\n",
       "      <td>800</td>\n",
       "      <td>STD BS-III</td>\n",
       "      <td>stdbsiii</td>\n",
       "      <td>Petrol</td>\n",
       "      <td>PETROL</td>\n",
       "      <td>10-02-2016 00:00</td>\n",
       "      <td>2002</td>\n",
       "      <td>35000</td>\n",
       "      <td>Andhra Pradesh</td>\n",
       "    </tr>\n",
       "  </tbody>\n",
       "</table>\n",
       "</div>"
      ],
      "text/plain": [
       "  UniqueSerialNo MAKE_NAME     Make_Clean         Model  Model_Clean  \\\n",
       "0   S14062500378      TATA           TATA    SUMO VICTA    SUMOVICTA   \n",
       "1   S15071100272  MAHINDRA       MAHINDRA        BOLERO       BOLERO   \n",
       "2   S15103000131      TATA           TATA  INDICA VISTA  INDICAVISTA   \n",
       "3   S15090300123      TATA           TATA  INDICA VISTA  INDICAVISTA   \n",
       "4   S15111900409    MARUTI  MARUTI SUZUKI           800          800   \n",
       "\n",
       "           Variant        Variant_Clean Fuel Type Fuel_Clean  \\\n",
       "0               LX                   lx    Diesel     DIESEL   \n",
       "1              SLX                  slx    Diesel     DIESEL   \n",
       "2     AQUA 1.4 TDI           aqua1.4tdi    Diesel     DIESEL   \n",
       "3  TERRA QUADRAJET  terraquadrajetbsiii    Diesel     DIESEL   \n",
       "4       STD BS-III             stdbsiii    Petrol     PETROL   \n",
       "\n",
       "          SOLD_DATE  MAKE YEAR  SOLD AMOUNT  4W_State_Clean  \n",
       "0  19-08-2015 00:00       2008       150000  Andhra Pradesh  \n",
       "1  26-12-2015 00:00       2008       261000  Andhra Pradesh  \n",
       "2  08-01-2016 00:00       2010       152000  Andhra Pradesh  \n",
       "3  08-01-2016 00:00       2009       114000  Andhra Pradesh  \n",
       "4  10-02-2016 00:00       2002        35000  Andhra Pradesh  "
      ]
     },
     "execution_count": 3,
     "metadata": {},
     "output_type": "execute_result"
    }
   ],
   "source": [
    "df.head()"
   ]
  },
  {
   "cell_type": "code",
   "execution_count": 4,
   "id": "d7ce64b3",
   "metadata": {},
   "outputs": [],
   "source": [
    "df2=df.copy()"
   ]
  },
  {
   "cell_type": "code",
   "execution_count": 5,
   "id": "81bb3cdf",
   "metadata": {},
   "outputs": [
    {
     "data": {
      "text/plain": [
       "(206198, 13)"
      ]
     },
     "execution_count": 5,
     "metadata": {},
     "output_type": "execute_result"
    }
   ],
   "source": [
    "df2.shape"
   ]
  },
  {
   "cell_type": "code",
   "execution_count": 6,
   "id": "8e7fc277",
   "metadata": {},
   "outputs": [],
   "source": [
    "data=df2.drop(['MAKE_NAME','UniqueSerialNo','Model','Variant','Fuel Type'],axis=1)"
   ]
  },
  {
   "cell_type": "code",
   "execution_count": 7,
   "id": "b492d90b",
   "metadata": {},
   "outputs": [
    {
     "data": {
      "text/html": [
       "<div>\n",
       "<style scoped>\n",
       "    .dataframe tbody tr th:only-of-type {\n",
       "        vertical-align: middle;\n",
       "    }\n",
       "\n",
       "    .dataframe tbody tr th {\n",
       "        vertical-align: top;\n",
       "    }\n",
       "\n",
       "    .dataframe thead th {\n",
       "        text-align: right;\n",
       "    }\n",
       "</style>\n",
       "<table border=\"1\" class=\"dataframe\">\n",
       "  <thead>\n",
       "    <tr style=\"text-align: right;\">\n",
       "      <th></th>\n",
       "      <th>Make_Clean</th>\n",
       "      <th>Model_Clean</th>\n",
       "      <th>Variant_Clean</th>\n",
       "      <th>Fuel_Clean</th>\n",
       "      <th>SOLD_DATE</th>\n",
       "      <th>MAKE YEAR</th>\n",
       "      <th>SOLD AMOUNT</th>\n",
       "      <th>4W_State_Clean</th>\n",
       "    </tr>\n",
       "  </thead>\n",
       "  <tbody>\n",
       "    <tr>\n",
       "      <th>0</th>\n",
       "      <td>TATA</td>\n",
       "      <td>SUMOVICTA</td>\n",
       "      <td>lx</td>\n",
       "      <td>DIESEL</td>\n",
       "      <td>19-08-2015 00:00</td>\n",
       "      <td>2008</td>\n",
       "      <td>150000</td>\n",
       "      <td>Andhra Pradesh</td>\n",
       "    </tr>\n",
       "    <tr>\n",
       "      <th>1</th>\n",
       "      <td>MAHINDRA</td>\n",
       "      <td>BOLERO</td>\n",
       "      <td>slx</td>\n",
       "      <td>DIESEL</td>\n",
       "      <td>26-12-2015 00:00</td>\n",
       "      <td>2008</td>\n",
       "      <td>261000</td>\n",
       "      <td>Andhra Pradesh</td>\n",
       "    </tr>\n",
       "    <tr>\n",
       "      <th>2</th>\n",
       "      <td>TATA</td>\n",
       "      <td>INDICAVISTA</td>\n",
       "      <td>aqua1.4tdi</td>\n",
       "      <td>DIESEL</td>\n",
       "      <td>08-01-2016 00:00</td>\n",
       "      <td>2010</td>\n",
       "      <td>152000</td>\n",
       "      <td>Andhra Pradesh</td>\n",
       "    </tr>\n",
       "    <tr>\n",
       "      <th>3</th>\n",
       "      <td>TATA</td>\n",
       "      <td>INDICAVISTA</td>\n",
       "      <td>terraquadrajetbsiii</td>\n",
       "      <td>DIESEL</td>\n",
       "      <td>08-01-2016 00:00</td>\n",
       "      <td>2009</td>\n",
       "      <td>114000</td>\n",
       "      <td>Andhra Pradesh</td>\n",
       "    </tr>\n",
       "    <tr>\n",
       "      <th>4</th>\n",
       "      <td>MARUTI SUZUKI</td>\n",
       "      <td>800</td>\n",
       "      <td>stdbsiii</td>\n",
       "      <td>PETROL</td>\n",
       "      <td>10-02-2016 00:00</td>\n",
       "      <td>2002</td>\n",
       "      <td>35000</td>\n",
       "      <td>Andhra Pradesh</td>\n",
       "    </tr>\n",
       "    <tr>\n",
       "      <th>...</th>\n",
       "      <td>...</td>\n",
       "      <td>...</td>\n",
       "      <td>...</td>\n",
       "      <td>...</td>\n",
       "      <td>...</td>\n",
       "      <td>...</td>\n",
       "      <td>...</td>\n",
       "      <td>...</td>\n",
       "    </tr>\n",
       "    <tr>\n",
       "      <th>206193</th>\n",
       "      <td>MARUTI SUZUKI</td>\n",
       "      <td>ALTO800</td>\n",
       "      <td>LXI</td>\n",
       "      <td>PETROL</td>\n",
       "      <td>12/31/2019</td>\n",
       "      <td>2015</td>\n",
       "      <td>140000</td>\n",
       "      <td>Kerala</td>\n",
       "    </tr>\n",
       "    <tr>\n",
       "      <th>206194</th>\n",
       "      <td>NISSAN</td>\n",
       "      <td>NaN</td>\n",
       "      <td>NAN</td>\n",
       "      <td>NaN</td>\n",
       "      <td>26-02-2018 00:00</td>\n",
       "      <td>2015</td>\n",
       "      <td>260000</td>\n",
       "      <td>Karnataka</td>\n",
       "    </tr>\n",
       "    <tr>\n",
       "      <th>206195</th>\n",
       "      <td>TOYOTA</td>\n",
       "      <td>COROLLA ALTIS</td>\n",
       "      <td>J</td>\n",
       "      <td>Petrol</td>\n",
       "      <td>8/27/2019</td>\n",
       "      <td>2008</td>\n",
       "      <td>190000</td>\n",
       "      <td>Karnataka</td>\n",
       "    </tr>\n",
       "    <tr>\n",
       "      <th>206196</th>\n",
       "      <td>TATA</td>\n",
       "      <td>INDICAV2</td>\n",
       "      <td>DLG</td>\n",
       "      <td>DIESEL</td>\n",
       "      <td>18-01-2020 00:00</td>\n",
       "      <td>2016</td>\n",
       "      <td>50000</td>\n",
       "      <td>Karnataka</td>\n",
       "    </tr>\n",
       "    <tr>\n",
       "      <th>206197</th>\n",
       "      <td>TATA</td>\n",
       "      <td>INDICAV2</td>\n",
       "      <td>DLG</td>\n",
       "      <td>DIESEL</td>\n",
       "      <td>18-01-2020 00:00</td>\n",
       "      <td>2016</td>\n",
       "      <td>50000</td>\n",
       "      <td>Karnataka</td>\n",
       "    </tr>\n",
       "  </tbody>\n",
       "</table>\n",
       "<p>206198 rows × 8 columns</p>\n",
       "</div>"
      ],
      "text/plain": [
       "           Make_Clean    Model_Clean        Variant_Clean Fuel_Clean  \\\n",
       "0                TATA      SUMOVICTA                   lx     DIESEL   \n",
       "1            MAHINDRA         BOLERO                  slx     DIESEL   \n",
       "2                TATA    INDICAVISTA           aqua1.4tdi     DIESEL   \n",
       "3                TATA    INDICAVISTA  terraquadrajetbsiii     DIESEL   \n",
       "4       MARUTI SUZUKI            800             stdbsiii     PETROL   \n",
       "...               ...            ...                  ...        ...   \n",
       "206193  MARUTI SUZUKI        ALTO800                  LXI     PETROL   \n",
       "206194         NISSAN            NaN                  NAN        NaN   \n",
       "206195         TOYOTA  COROLLA ALTIS                    J     Petrol   \n",
       "206196           TATA       INDICAV2                  DLG     DIESEL   \n",
       "206197           TATA       INDICAV2                  DLG     DIESEL   \n",
       "\n",
       "               SOLD_DATE  MAKE YEAR  SOLD AMOUNT  4W_State_Clean  \n",
       "0       19-08-2015 00:00       2008       150000  Andhra Pradesh  \n",
       "1       26-12-2015 00:00       2008       261000  Andhra Pradesh  \n",
       "2       08-01-2016 00:00       2010       152000  Andhra Pradesh  \n",
       "3       08-01-2016 00:00       2009       114000  Andhra Pradesh  \n",
       "4       10-02-2016 00:00       2002        35000  Andhra Pradesh  \n",
       "...                  ...        ...          ...             ...  \n",
       "206193        12/31/2019       2015       140000          Kerala  \n",
       "206194  26-02-2018 00:00       2015       260000       Karnataka  \n",
       "206195         8/27/2019       2008       190000       Karnataka  \n",
       "206196  18-01-2020 00:00       2016        50000       Karnataka  \n",
       "206197  18-01-2020 00:00       2016        50000       Karnataka  \n",
       "\n",
       "[206198 rows x 8 columns]"
      ]
     },
     "execution_count": 7,
     "metadata": {},
     "output_type": "execute_result"
    }
   ],
   "source": [
    "data"
   ]
  },
  {
   "cell_type": "code",
   "execution_count": 8,
   "id": "57beee00",
   "metadata": {},
   "outputs": [],
   "source": [
    "data.rename(columns={'Make_Clean':'Make','Model_Clean':'Model','Variant_Clean':'Variant','Fuel_Clean':'FUEL TYPE_CLEANED','4W_State_Clean':'STATE_MAPPED'},inplace=True)"
   ]
  },
  {
   "cell_type": "code",
   "execution_count": 9,
   "id": "5a67b9d4",
   "metadata": {},
   "outputs": [
    {
     "data": {
      "text/html": [
       "<div>\n",
       "<style scoped>\n",
       "    .dataframe tbody tr th:only-of-type {\n",
       "        vertical-align: middle;\n",
       "    }\n",
       "\n",
       "    .dataframe tbody tr th {\n",
       "        vertical-align: top;\n",
       "    }\n",
       "\n",
       "    .dataframe thead th {\n",
       "        text-align: right;\n",
       "    }\n",
       "</style>\n",
       "<table border=\"1\" class=\"dataframe\">\n",
       "  <thead>\n",
       "    <tr style=\"text-align: right;\">\n",
       "      <th></th>\n",
       "      <th>Make</th>\n",
       "      <th>Model</th>\n",
       "      <th>Variant</th>\n",
       "      <th>FUEL TYPE_CLEANED</th>\n",
       "      <th>SOLD_DATE</th>\n",
       "      <th>MAKE YEAR</th>\n",
       "      <th>SOLD AMOUNT</th>\n",
       "      <th>STATE_MAPPED</th>\n",
       "    </tr>\n",
       "  </thead>\n",
       "  <tbody>\n",
       "    <tr>\n",
       "      <th>0</th>\n",
       "      <td>TATA</td>\n",
       "      <td>SUMOVICTA</td>\n",
       "      <td>lx</td>\n",
       "      <td>DIESEL</td>\n",
       "      <td>19-08-2015 00:00</td>\n",
       "      <td>2008</td>\n",
       "      <td>150000</td>\n",
       "      <td>Andhra Pradesh</td>\n",
       "    </tr>\n",
       "    <tr>\n",
       "      <th>1</th>\n",
       "      <td>MAHINDRA</td>\n",
       "      <td>BOLERO</td>\n",
       "      <td>slx</td>\n",
       "      <td>DIESEL</td>\n",
       "      <td>26-12-2015 00:00</td>\n",
       "      <td>2008</td>\n",
       "      <td>261000</td>\n",
       "      <td>Andhra Pradesh</td>\n",
       "    </tr>\n",
       "  </tbody>\n",
       "</table>\n",
       "</div>"
      ],
      "text/plain": [
       "       Make      Model Variant FUEL TYPE_CLEANED         SOLD_DATE  MAKE YEAR  \\\n",
       "0      TATA  SUMOVICTA      lx            DIESEL  19-08-2015 00:00       2008   \n",
       "1  MAHINDRA     BOLERO     slx            DIESEL  26-12-2015 00:00       2008   \n",
       "\n",
       "   SOLD AMOUNT    STATE_MAPPED  \n",
       "0       150000  Andhra Pradesh  \n",
       "1       261000  Andhra Pradesh  "
      ]
     },
     "execution_count": 9,
     "metadata": {},
     "output_type": "execute_result"
    }
   ],
   "source": [
    "data.head(2)"
   ]
  },
  {
   "cell_type": "code",
   "execution_count": 10,
   "id": "aa7574b4",
   "metadata": {},
   "outputs": [],
   "source": [
    "def uppper(df,col):\n",
    "    df[col]=df[col].str.upper()\n",
    "    df[col]=df[col].str.replace(' ','')\n",
    "    return df[col]"
   ]
  },
  {
   "cell_type": "code",
   "execution_count": 11,
   "id": "1864b293",
   "metadata": {},
   "outputs": [],
   "source": [
    "def encoding(data,col,col_1,model):\n",
    "    print(model.head())\n",
    "    temp = pd.read_csv(data+'.csv',encoding='CP1252')\n",
    "    temp[col]=uppper(temp,col)\n",
    "    model_temp = pd.DataFrame()\n",
    "    labels_temp_map = dict(zip(temp[col],temp['Id (Encoding)']))\n",
    "    model_temp[col_1] = model[col_1].map(labels_temp_map)\n",
    "    print(model.head())\n",
    "    return model_temp[col_1]"
   ]
  },
  {
   "cell_type": "code",
   "execution_count": 12,
   "id": "c344cd06",
   "metadata": {},
   "outputs": [],
   "source": [
    "def df_reset(df):\n",
    "    return pd.DataFrame()"
   ]
  },
  {
   "cell_type": "code",
   "execution_count": 13,
   "id": "649c0bf3",
   "metadata": {},
   "outputs": [],
   "source": [
    "data.rename(columns={'Make':'Make_Clean'},inplace=True)\n",
    "data.rename(columns={'Model':'Model_Clean'},inplace=True)\n",
    "data.rename(columns={'Variant':'Variant_Clean'},inplace=True)"
   ]
  },
  {
   "cell_type": "code",
   "execution_count": 14,
   "id": "55c27ec9",
   "metadata": {},
   "outputs": [],
   "source": [
    "data.rename(columns={'FUEL TYPE_CLEANED':'Fuel_Clean'},inplace=True)\n",
    "data.rename(columns={'STATE_MAPPED':'CV_State_Clean'},inplace=True)\n",
    "data.rename(columns={'MAKE YEAR':'MAKE_YEAR'},inplace=True)"
   ]
  },
  {
   "cell_type": "code",
   "execution_count": 15,
   "id": "393ad8ed",
   "metadata": {},
   "outputs": [],
   "source": [
    "data['Make_Clean']=uppper(data,'Make_Clean')\n",
    "data['Model_Clean']=uppper(data,'Model_Clean')\n",
    "data['Variant_Clean']=uppper(data,'Variant_Clean')\n",
    "data['Fuel_Clean']=uppper(data,'Fuel_Clean')\n",
    "data['CV_State_Clean']=uppper(data,'CV_State_Clean')"
   ]
  },
  {
   "cell_type": "code",
   "execution_count": 16,
   "id": "937531df",
   "metadata": {},
   "outputs": [
    {
     "data": {
      "text/plain": [
       "Make_Clean       0.001\n",
       "Model_Clean      0.044\n",
       "Variant_Clean    1.357\n",
       "Fuel_Clean       2.874\n",
       "SOLD_DATE        0.000\n",
       "MAKE_YEAR        0.000\n",
       "SOLD AMOUNT      0.000\n",
       "CV_State_Clean   0.751\n",
       "dtype: float64"
      ]
     },
     "execution_count": 16,
     "metadata": {},
     "output_type": "execute_result"
    }
   ],
   "source": [
    "data.isnull().sum() * 100 / len(data)"
   ]
  },
  {
   "cell_type": "code",
   "execution_count": 17,
   "id": "9afe4d84",
   "metadata": {},
   "outputs": [],
   "source": [
    "dt = data.dropna(how='any',axis=0,subset=['Model_Clean','Fuel_Clean','Variant_Clean','Make_Clean','CV_State_Clean'])"
   ]
  },
  {
   "cell_type": "code",
   "execution_count": 18,
   "id": "c9149a27",
   "metadata": {},
   "outputs": [
    {
     "data": {
      "text/html": [
       "<div>\n",
       "<style scoped>\n",
       "    .dataframe tbody tr th:only-of-type {\n",
       "        vertical-align: middle;\n",
       "    }\n",
       "\n",
       "    .dataframe tbody tr th {\n",
       "        vertical-align: top;\n",
       "    }\n",
       "\n",
       "    .dataframe thead th {\n",
       "        text-align: right;\n",
       "    }\n",
       "</style>\n",
       "<table border=\"1\" class=\"dataframe\">\n",
       "  <thead>\n",
       "    <tr style=\"text-align: right;\">\n",
       "      <th></th>\n",
       "      <th>Make_Clean</th>\n",
       "      <th>Model_Clean</th>\n",
       "      <th>Variant_Clean</th>\n",
       "      <th>Fuel_Clean</th>\n",
       "      <th>SOLD_DATE</th>\n",
       "      <th>MAKE_YEAR</th>\n",
       "      <th>SOLD AMOUNT</th>\n",
       "      <th>CV_State_Clean</th>\n",
       "    </tr>\n",
       "  </thead>\n",
       "  <tbody>\n",
       "    <tr>\n",
       "      <th>0</th>\n",
       "      <td>TATA</td>\n",
       "      <td>SUMOVICTA</td>\n",
       "      <td>LX</td>\n",
       "      <td>DIESEL</td>\n",
       "      <td>19-08-2015 00:00</td>\n",
       "      <td>2008</td>\n",
       "      <td>150000</td>\n",
       "      <td>ANDHRAPRADESH</td>\n",
       "    </tr>\n",
       "    <tr>\n",
       "      <th>1</th>\n",
       "      <td>MAHINDRA</td>\n",
       "      <td>BOLERO</td>\n",
       "      <td>SLX</td>\n",
       "      <td>DIESEL</td>\n",
       "      <td>26-12-2015 00:00</td>\n",
       "      <td>2008</td>\n",
       "      <td>261000</td>\n",
       "      <td>ANDHRAPRADESH</td>\n",
       "    </tr>\n",
       "    <tr>\n",
       "      <th>2</th>\n",
       "      <td>TATA</td>\n",
       "      <td>INDICAVISTA</td>\n",
       "      <td>AQUA1.4TDI</td>\n",
       "      <td>DIESEL</td>\n",
       "      <td>08-01-2016 00:00</td>\n",
       "      <td>2010</td>\n",
       "      <td>152000</td>\n",
       "      <td>ANDHRAPRADESH</td>\n",
       "    </tr>\n",
       "    <tr>\n",
       "      <th>3</th>\n",
       "      <td>TATA</td>\n",
       "      <td>INDICAVISTA</td>\n",
       "      <td>TERRAQUADRAJETBSIII</td>\n",
       "      <td>DIESEL</td>\n",
       "      <td>08-01-2016 00:00</td>\n",
       "      <td>2009</td>\n",
       "      <td>114000</td>\n",
       "      <td>ANDHRAPRADESH</td>\n",
       "    </tr>\n",
       "    <tr>\n",
       "      <th>4</th>\n",
       "      <td>MARUTISUZUKI</td>\n",
       "      <td>800</td>\n",
       "      <td>STDBSIII</td>\n",
       "      <td>PETROL</td>\n",
       "      <td>10-02-2016 00:00</td>\n",
       "      <td>2002</td>\n",
       "      <td>35000</td>\n",
       "      <td>ANDHRAPRADESH</td>\n",
       "    </tr>\n",
       "    <tr>\n",
       "      <th>...</th>\n",
       "      <td>...</td>\n",
       "      <td>...</td>\n",
       "      <td>...</td>\n",
       "      <td>...</td>\n",
       "      <td>...</td>\n",
       "      <td>...</td>\n",
       "      <td>...</td>\n",
       "      <td>...</td>\n",
       "    </tr>\n",
       "    <tr>\n",
       "      <th>206189</th>\n",
       "      <td>FORCEMOTORS</td>\n",
       "      <td>TOOFANTRAX</td>\n",
       "      <td>DI11STR</td>\n",
       "      <td>DIESEL</td>\n",
       "      <td>12/31/2019</td>\n",
       "      <td>2013</td>\n",
       "      <td>128000</td>\n",
       "      <td>ANDHRAPRADESH</td>\n",
       "    </tr>\n",
       "    <tr>\n",
       "      <th>206193</th>\n",
       "      <td>MARUTISUZUKI</td>\n",
       "      <td>ALTO800</td>\n",
       "      <td>LXI</td>\n",
       "      <td>PETROL</td>\n",
       "      <td>12/31/2019</td>\n",
       "      <td>2015</td>\n",
       "      <td>140000</td>\n",
       "      <td>KERALA</td>\n",
       "    </tr>\n",
       "    <tr>\n",
       "      <th>206195</th>\n",
       "      <td>TOYOTA</td>\n",
       "      <td>COROLLAALTIS</td>\n",
       "      <td>J</td>\n",
       "      <td>PETROL</td>\n",
       "      <td>8/27/2019</td>\n",
       "      <td>2008</td>\n",
       "      <td>190000</td>\n",
       "      <td>KARNATAKA</td>\n",
       "    </tr>\n",
       "    <tr>\n",
       "      <th>206196</th>\n",
       "      <td>TATA</td>\n",
       "      <td>INDICAV2</td>\n",
       "      <td>DLG</td>\n",
       "      <td>DIESEL</td>\n",
       "      <td>18-01-2020 00:00</td>\n",
       "      <td>2016</td>\n",
       "      <td>50000</td>\n",
       "      <td>KARNATAKA</td>\n",
       "    </tr>\n",
       "    <tr>\n",
       "      <th>206197</th>\n",
       "      <td>TATA</td>\n",
       "      <td>INDICAV2</td>\n",
       "      <td>DLG</td>\n",
       "      <td>DIESEL</td>\n",
       "      <td>18-01-2020 00:00</td>\n",
       "      <td>2016</td>\n",
       "      <td>50000</td>\n",
       "      <td>KARNATAKA</td>\n",
       "    </tr>\n",
       "  </tbody>\n",
       "</table>\n",
       "<p>198047 rows × 8 columns</p>\n",
       "</div>"
      ],
      "text/plain": [
       "          Make_Clean   Model_Clean        Variant_Clean Fuel_Clean  \\\n",
       "0               TATA     SUMOVICTA                   LX     DIESEL   \n",
       "1           MAHINDRA        BOLERO                  SLX     DIESEL   \n",
       "2               TATA   INDICAVISTA           AQUA1.4TDI     DIESEL   \n",
       "3               TATA   INDICAVISTA  TERRAQUADRAJETBSIII     DIESEL   \n",
       "4       MARUTISUZUKI           800             STDBSIII     PETROL   \n",
       "...              ...           ...                  ...        ...   \n",
       "206189   FORCEMOTORS    TOOFANTRAX              DI11STR     DIESEL   \n",
       "206193  MARUTISUZUKI       ALTO800                  LXI     PETROL   \n",
       "206195        TOYOTA  COROLLAALTIS                    J     PETROL   \n",
       "206196          TATA      INDICAV2                  DLG     DIESEL   \n",
       "206197          TATA      INDICAV2                  DLG     DIESEL   \n",
       "\n",
       "               SOLD_DATE  MAKE_YEAR  SOLD AMOUNT CV_State_Clean  \n",
       "0       19-08-2015 00:00       2008       150000  ANDHRAPRADESH  \n",
       "1       26-12-2015 00:00       2008       261000  ANDHRAPRADESH  \n",
       "2       08-01-2016 00:00       2010       152000  ANDHRAPRADESH  \n",
       "3       08-01-2016 00:00       2009       114000  ANDHRAPRADESH  \n",
       "4       10-02-2016 00:00       2002        35000  ANDHRAPRADESH  \n",
       "...                  ...        ...          ...            ...  \n",
       "206189        12/31/2019       2013       128000  ANDHRAPRADESH  \n",
       "206193        12/31/2019       2015       140000         KERALA  \n",
       "206195         8/27/2019       2008       190000      KARNATAKA  \n",
       "206196  18-01-2020 00:00       2016        50000      KARNATAKA  \n",
       "206197  18-01-2020 00:00       2016        50000      KARNATAKA  \n",
       "\n",
       "[198047 rows x 8 columns]"
      ]
     },
     "execution_count": 18,
     "metadata": {},
     "output_type": "execute_result"
    }
   ],
   "source": [
    "dt"
   ]
  },
  {
   "cell_type": "code",
   "execution_count": 19,
   "id": "27b595c9",
   "metadata": {},
   "outputs": [
    {
     "data": {
      "text/plain": [
       "array(['DIESEL', 'PETROL', 'LPG', 'CNG'], dtype=object)"
      ]
     },
     "execution_count": 19,
     "metadata": {},
     "output_type": "execute_result"
    }
   ],
   "source": [
    "dt['Fuel_Clean'].unique()"
   ]
  },
  {
   "cell_type": "code",
   "execution_count": 20,
   "id": "62847b1a",
   "metadata": {},
   "outputs": [],
   "source": [
    "dt['MMV']= dt['Make_Clean']+'_'+dt['Model_Clean']+'_'+dt['Variant_Clean']"
   ]
  },
  {
   "cell_type": "code",
   "execution_count": 21,
   "id": "c5bf03c0",
   "metadata": {},
   "outputs": [],
   "source": [
    "df_1= dt.copy()"
   ]
  },
  {
   "cell_type": "code",
   "execution_count": 22,
   "id": "2c2de479",
   "metadata": {},
   "outputs": [
    {
     "data": {
      "text/plain": [
       "(198047, 9)"
      ]
     },
     "execution_count": 22,
     "metadata": {},
     "output_type": "execute_result"
    }
   ],
   "source": [
    "df_1.shape"
   ]
  },
  {
   "cell_type": "code",
   "execution_count": 23,
   "id": "e95a0473",
   "metadata": {},
   "outputs": [
    {
     "data": {
      "text/html": [
       "<div>\n",
       "<style scoped>\n",
       "    .dataframe tbody tr th:only-of-type {\n",
       "        vertical-align: middle;\n",
       "    }\n",
       "\n",
       "    .dataframe tbody tr th {\n",
       "        vertical-align: top;\n",
       "    }\n",
       "\n",
       "    .dataframe thead th {\n",
       "        text-align: right;\n",
       "    }\n",
       "</style>\n",
       "<table border=\"1\" class=\"dataframe\">\n",
       "  <thead>\n",
       "    <tr style=\"text-align: right;\">\n",
       "      <th></th>\n",
       "      <th>MAKE_YEAR</th>\n",
       "      <th>SOLD AMOUNT</th>\n",
       "    </tr>\n",
       "  </thead>\n",
       "  <tbody>\n",
       "    <tr>\n",
       "      <th>count</th>\n",
       "      <td>198047.000</td>\n",
       "      <td>198047.000</td>\n",
       "    </tr>\n",
       "    <tr>\n",
       "      <th>mean</th>\n",
       "      <td>2009.192</td>\n",
       "      <td>148531.611</td>\n",
       "    </tr>\n",
       "    <tr>\n",
       "      <th>std</th>\n",
       "      <td>20.110</td>\n",
       "      <td>123702.722</td>\n",
       "    </tr>\n",
       "    <tr>\n",
       "      <th>min</th>\n",
       "      <td>0.000</td>\n",
       "      <td>145.000</td>\n",
       "    </tr>\n",
       "    <tr>\n",
       "      <th>25%</th>\n",
       "      <td>2007.000</td>\n",
       "      <td>60000.000</td>\n",
       "    </tr>\n",
       "    <tr>\n",
       "      <th>50%</th>\n",
       "      <td>2010.000</td>\n",
       "      <td>113000.000</td>\n",
       "    </tr>\n",
       "    <tr>\n",
       "      <th>75%</th>\n",
       "      <td>2012.000</td>\n",
       "      <td>200000.000</td>\n",
       "    </tr>\n",
       "    <tr>\n",
       "      <th>max</th>\n",
       "      <td>2019.000</td>\n",
       "      <td>2935000.000</td>\n",
       "    </tr>\n",
       "  </tbody>\n",
       "</table>\n",
       "</div>"
      ],
      "text/plain": [
       "       MAKE_YEAR  SOLD AMOUNT\n",
       "count 198047.000   198047.000\n",
       "mean    2009.192   148531.611\n",
       "std       20.110   123702.722\n",
       "min        0.000      145.000\n",
       "25%     2007.000    60000.000\n",
       "50%     2010.000   113000.000\n",
       "75%     2012.000   200000.000\n",
       "max     2019.000  2935000.000"
      ]
     },
     "execution_count": 23,
     "metadata": {},
     "output_type": "execute_result"
    }
   ],
   "source": [
    "df_1.describe()"
   ]
  },
  {
   "cell_type": "code",
   "execution_count": 24,
   "id": "14eb1867",
   "metadata": {},
   "outputs": [
    {
     "data": {
      "text/plain": [
       "2935000"
      ]
     },
     "execution_count": 24,
     "metadata": {},
     "output_type": "execute_result"
    }
   ],
   "source": [
    "df_1['SOLD AMOUNT'].max()"
   ]
  },
  {
   "cell_type": "code",
   "execution_count": 25,
   "id": "09f3d7b9",
   "metadata": {},
   "outputs": [],
   "source": [
    "#Sampling\n",
    "df_2 = df_1[df_1['SOLD AMOUNT']>=145] "
   ]
  },
  {
   "cell_type": "code",
   "execution_count": 26,
   "id": "5061cfb0",
   "metadata": {},
   "outputs": [
    {
     "data": {
      "text/plain": [
       "(198047, 9)"
      ]
     },
     "execution_count": 26,
     "metadata": {},
     "output_type": "execute_result"
    }
   ],
   "source": [
    "df_2.shape"
   ]
  },
  {
   "cell_type": "code",
   "execution_count": 27,
   "id": "aad19136",
   "metadata": {},
   "outputs": [],
   "source": [
    "df_3 = df_2[df_2['MMV'].map(df_2['MMV'].value_counts()) >=10]"
   ]
  },
  {
   "cell_type": "code",
   "execution_count": 28,
   "id": "d1764525",
   "metadata": {},
   "outputs": [
    {
     "data": {
      "text/plain": [
       "(196386, 9)"
      ]
     },
     "execution_count": 28,
     "metadata": {},
     "output_type": "execute_result"
    }
   ],
   "source": [
    "df_3.shape"
   ]
  },
  {
   "cell_type": "code",
   "execution_count": 29,
   "id": "cadee0d7",
   "metadata": {},
   "outputs": [
    {
     "data": {
      "text/html": [
       "<div>\n",
       "<style scoped>\n",
       "    .dataframe tbody tr th:only-of-type {\n",
       "        vertical-align: middle;\n",
       "    }\n",
       "\n",
       "    .dataframe tbody tr th {\n",
       "        vertical-align: top;\n",
       "    }\n",
       "\n",
       "    .dataframe thead th {\n",
       "        text-align: right;\n",
       "    }\n",
       "</style>\n",
       "<table border=\"1\" class=\"dataframe\">\n",
       "  <thead>\n",
       "    <tr style=\"text-align: right;\">\n",
       "      <th></th>\n",
       "      <th>Make_Clean</th>\n",
       "      <th>Model_Clean</th>\n",
       "      <th>Variant_Clean</th>\n",
       "      <th>Fuel_Clean</th>\n",
       "      <th>SOLD_DATE</th>\n",
       "      <th>MAKE_YEAR</th>\n",
       "      <th>SOLD AMOUNT</th>\n",
       "      <th>CV_State_Clean</th>\n",
       "      <th>MMV</th>\n",
       "    </tr>\n",
       "  </thead>\n",
       "  <tbody>\n",
       "    <tr>\n",
       "      <th>0</th>\n",
       "      <td>TATA</td>\n",
       "      <td>SUMOVICTA</td>\n",
       "      <td>LX</td>\n",
       "      <td>DIESEL</td>\n",
       "      <td>19-08-2015 00:00</td>\n",
       "      <td>2008</td>\n",
       "      <td>150000</td>\n",
       "      <td>ANDHRAPRADESH</td>\n",
       "      <td>TATA_SUMOVICTA_LX</td>\n",
       "    </tr>\n",
       "    <tr>\n",
       "      <th>1</th>\n",
       "      <td>MAHINDRA</td>\n",
       "      <td>BOLERO</td>\n",
       "      <td>SLX</td>\n",
       "      <td>DIESEL</td>\n",
       "      <td>26-12-2015 00:00</td>\n",
       "      <td>2008</td>\n",
       "      <td>261000</td>\n",
       "      <td>ANDHRAPRADESH</td>\n",
       "      <td>MAHINDRA_BOLERO_SLX</td>\n",
       "    </tr>\n",
       "    <tr>\n",
       "      <th>2</th>\n",
       "      <td>TATA</td>\n",
       "      <td>INDICAVISTA</td>\n",
       "      <td>AQUA1.4TDI</td>\n",
       "      <td>DIESEL</td>\n",
       "      <td>08-01-2016 00:00</td>\n",
       "      <td>2010</td>\n",
       "      <td>152000</td>\n",
       "      <td>ANDHRAPRADESH</td>\n",
       "      <td>TATA_INDICAVISTA_AQUA1.4TDI</td>\n",
       "    </tr>\n",
       "    <tr>\n",
       "      <th>3</th>\n",
       "      <td>TATA</td>\n",
       "      <td>INDICAVISTA</td>\n",
       "      <td>TERRAQUADRAJETBSIII</td>\n",
       "      <td>DIESEL</td>\n",
       "      <td>08-01-2016 00:00</td>\n",
       "      <td>2009</td>\n",
       "      <td>114000</td>\n",
       "      <td>ANDHRAPRADESH</td>\n",
       "      <td>TATA_INDICAVISTA_TERRAQUADRAJETBSIII</td>\n",
       "    </tr>\n",
       "    <tr>\n",
       "      <th>4</th>\n",
       "      <td>MARUTISUZUKI</td>\n",
       "      <td>800</td>\n",
       "      <td>STDBSIII</td>\n",
       "      <td>PETROL</td>\n",
       "      <td>10-02-2016 00:00</td>\n",
       "      <td>2002</td>\n",
       "      <td>35000</td>\n",
       "      <td>ANDHRAPRADESH</td>\n",
       "      <td>MARUTISUZUKI_800_STDBSIII</td>\n",
       "    </tr>\n",
       "    <tr>\n",
       "      <th>...</th>\n",
       "      <td>...</td>\n",
       "      <td>...</td>\n",
       "      <td>...</td>\n",
       "      <td>...</td>\n",
       "      <td>...</td>\n",
       "      <td>...</td>\n",
       "      <td>...</td>\n",
       "      <td>...</td>\n",
       "      <td>...</td>\n",
       "    </tr>\n",
       "    <tr>\n",
       "      <th>206189</th>\n",
       "      <td>FORCEMOTORS</td>\n",
       "      <td>TOOFANTRAX</td>\n",
       "      <td>DI11STR</td>\n",
       "      <td>DIESEL</td>\n",
       "      <td>12/31/2019</td>\n",
       "      <td>2013</td>\n",
       "      <td>128000</td>\n",
       "      <td>ANDHRAPRADESH</td>\n",
       "      <td>FORCEMOTORS_TOOFANTRAX_DI11STR</td>\n",
       "    </tr>\n",
       "    <tr>\n",
       "      <th>206193</th>\n",
       "      <td>MARUTISUZUKI</td>\n",
       "      <td>ALTO800</td>\n",
       "      <td>LXI</td>\n",
       "      <td>PETROL</td>\n",
       "      <td>12/31/2019</td>\n",
       "      <td>2015</td>\n",
       "      <td>140000</td>\n",
       "      <td>KERALA</td>\n",
       "      <td>MARUTISUZUKI_ALTO800_LXI</td>\n",
       "    </tr>\n",
       "    <tr>\n",
       "      <th>206195</th>\n",
       "      <td>TOYOTA</td>\n",
       "      <td>COROLLAALTIS</td>\n",
       "      <td>J</td>\n",
       "      <td>PETROL</td>\n",
       "      <td>8/27/2019</td>\n",
       "      <td>2008</td>\n",
       "      <td>190000</td>\n",
       "      <td>KARNATAKA</td>\n",
       "      <td>TOYOTA_COROLLAALTIS_J</td>\n",
       "    </tr>\n",
       "    <tr>\n",
       "      <th>206196</th>\n",
       "      <td>TATA</td>\n",
       "      <td>INDICAV2</td>\n",
       "      <td>DLG</td>\n",
       "      <td>DIESEL</td>\n",
       "      <td>18-01-2020 00:00</td>\n",
       "      <td>2016</td>\n",
       "      <td>50000</td>\n",
       "      <td>KARNATAKA</td>\n",
       "      <td>TATA_INDICAV2_DLG</td>\n",
       "    </tr>\n",
       "    <tr>\n",
       "      <th>206197</th>\n",
       "      <td>TATA</td>\n",
       "      <td>INDICAV2</td>\n",
       "      <td>DLG</td>\n",
       "      <td>DIESEL</td>\n",
       "      <td>18-01-2020 00:00</td>\n",
       "      <td>2016</td>\n",
       "      <td>50000</td>\n",
       "      <td>KARNATAKA</td>\n",
       "      <td>TATA_INDICAV2_DLG</td>\n",
       "    </tr>\n",
       "  </tbody>\n",
       "</table>\n",
       "<p>196386 rows × 9 columns</p>\n",
       "</div>"
      ],
      "text/plain": [
       "          Make_Clean   Model_Clean        Variant_Clean Fuel_Clean  \\\n",
       "0               TATA     SUMOVICTA                   LX     DIESEL   \n",
       "1           MAHINDRA        BOLERO                  SLX     DIESEL   \n",
       "2               TATA   INDICAVISTA           AQUA1.4TDI     DIESEL   \n",
       "3               TATA   INDICAVISTA  TERRAQUADRAJETBSIII     DIESEL   \n",
       "4       MARUTISUZUKI           800             STDBSIII     PETROL   \n",
       "...              ...           ...                  ...        ...   \n",
       "206189   FORCEMOTORS    TOOFANTRAX              DI11STR     DIESEL   \n",
       "206193  MARUTISUZUKI       ALTO800                  LXI     PETROL   \n",
       "206195        TOYOTA  COROLLAALTIS                    J     PETROL   \n",
       "206196          TATA      INDICAV2                  DLG     DIESEL   \n",
       "206197          TATA      INDICAV2                  DLG     DIESEL   \n",
       "\n",
       "               SOLD_DATE  MAKE_YEAR  SOLD AMOUNT CV_State_Clean  \\\n",
       "0       19-08-2015 00:00       2008       150000  ANDHRAPRADESH   \n",
       "1       26-12-2015 00:00       2008       261000  ANDHRAPRADESH   \n",
       "2       08-01-2016 00:00       2010       152000  ANDHRAPRADESH   \n",
       "3       08-01-2016 00:00       2009       114000  ANDHRAPRADESH   \n",
       "4       10-02-2016 00:00       2002        35000  ANDHRAPRADESH   \n",
       "...                  ...        ...          ...            ...   \n",
       "206189        12/31/2019       2013       128000  ANDHRAPRADESH   \n",
       "206193        12/31/2019       2015       140000         KERALA   \n",
       "206195         8/27/2019       2008       190000      KARNATAKA   \n",
       "206196  18-01-2020 00:00       2016        50000      KARNATAKA   \n",
       "206197  18-01-2020 00:00       2016        50000      KARNATAKA   \n",
       "\n",
       "                                         MMV  \n",
       "0                          TATA_SUMOVICTA_LX  \n",
       "1                        MAHINDRA_BOLERO_SLX  \n",
       "2                TATA_INDICAVISTA_AQUA1.4TDI  \n",
       "3       TATA_INDICAVISTA_TERRAQUADRAJETBSIII  \n",
       "4                  MARUTISUZUKI_800_STDBSIII  \n",
       "...                                      ...  \n",
       "206189        FORCEMOTORS_TOOFANTRAX_DI11STR  \n",
       "206193              MARUTISUZUKI_ALTO800_LXI  \n",
       "206195                 TOYOTA_COROLLAALTIS_J  \n",
       "206196                     TATA_INDICAV2_DLG  \n",
       "206197                     TATA_INDICAV2_DLG  \n",
       "\n",
       "[196386 rows x 9 columns]"
      ]
     },
     "execution_count": 29,
     "metadata": {},
     "output_type": "execute_result"
    }
   ],
   "source": [
    "df_3"
   ]
  },
  {
   "cell_type": "code",
   "execution_count": 30,
   "id": "dbce49dc",
   "metadata": {},
   "outputs": [],
   "source": [
    "df_1 =df_reset(df_1)"
   ]
  },
  {
   "cell_type": "code",
   "execution_count": 31,
   "id": "cc25bf39",
   "metadata": {},
   "outputs": [],
   "source": [
    "df_2 = df_reset(df_2)"
   ]
  },
  {
   "cell_type": "code",
   "execution_count": 32,
   "id": "36e53f18",
   "metadata": {},
   "outputs": [],
   "source": [
    "df = df_3.copy()"
   ]
  },
  {
   "cell_type": "code",
   "execution_count": 33,
   "id": "8763b730",
   "metadata": {},
   "outputs": [],
   "source": [
    "#Data Preprocessing\n",
    "df_1 = df[df['MAKE_YEAR']>=2005]"
   ]
  },
  {
   "cell_type": "code",
   "execution_count": 34,
   "id": "9d20eba7",
   "metadata": {},
   "outputs": [
    {
     "data": {
      "text/plain": [
       "(175497, 9)"
      ]
     },
     "execution_count": 34,
     "metadata": {},
     "output_type": "execute_result"
    }
   ],
   "source": [
    "df_1.shape"
   ]
  },
  {
   "cell_type": "code",
   "execution_count": 35,
   "id": "c58e9c9d",
   "metadata": {},
   "outputs": [
    {
     "data": {
      "text/html": [
       "<div>\n",
       "<style scoped>\n",
       "    .dataframe tbody tr th:only-of-type {\n",
       "        vertical-align: middle;\n",
       "    }\n",
       "\n",
       "    .dataframe tbody tr th {\n",
       "        vertical-align: top;\n",
       "    }\n",
       "\n",
       "    .dataframe thead th {\n",
       "        text-align: right;\n",
       "    }\n",
       "</style>\n",
       "<table border=\"1\" class=\"dataframe\">\n",
       "  <thead>\n",
       "    <tr style=\"text-align: right;\">\n",
       "      <th></th>\n",
       "      <th>Make_Clean</th>\n",
       "      <th>Model_Clean</th>\n",
       "      <th>Variant_Clean</th>\n",
       "      <th>Fuel_Clean</th>\n",
       "      <th>SOLD_DATE</th>\n",
       "      <th>MAKE_YEAR</th>\n",
       "      <th>SOLD AMOUNT</th>\n",
       "      <th>CV_State_Clean</th>\n",
       "      <th>MMV</th>\n",
       "    </tr>\n",
       "  </thead>\n",
       "  <tbody>\n",
       "    <tr>\n",
       "      <th>0</th>\n",
       "      <td>TATA</td>\n",
       "      <td>SUMOVICTA</td>\n",
       "      <td>LX</td>\n",
       "      <td>DIESEL</td>\n",
       "      <td>19-08-2015 00:00</td>\n",
       "      <td>2008</td>\n",
       "      <td>150000</td>\n",
       "      <td>ANDHRAPRADESH</td>\n",
       "      <td>TATA_SUMOVICTA_LX</td>\n",
       "    </tr>\n",
       "    <tr>\n",
       "      <th>1</th>\n",
       "      <td>MAHINDRA</td>\n",
       "      <td>BOLERO</td>\n",
       "      <td>SLX</td>\n",
       "      <td>DIESEL</td>\n",
       "      <td>26-12-2015 00:00</td>\n",
       "      <td>2008</td>\n",
       "      <td>261000</td>\n",
       "      <td>ANDHRAPRADESH</td>\n",
       "      <td>MAHINDRA_BOLERO_SLX</td>\n",
       "    </tr>\n",
       "    <tr>\n",
       "      <th>2</th>\n",
       "      <td>TATA</td>\n",
       "      <td>INDICAVISTA</td>\n",
       "      <td>AQUA1.4TDI</td>\n",
       "      <td>DIESEL</td>\n",
       "      <td>08-01-2016 00:00</td>\n",
       "      <td>2010</td>\n",
       "      <td>152000</td>\n",
       "      <td>ANDHRAPRADESH</td>\n",
       "      <td>TATA_INDICAVISTA_AQUA1.4TDI</td>\n",
       "    </tr>\n",
       "    <tr>\n",
       "      <th>3</th>\n",
       "      <td>TATA</td>\n",
       "      <td>INDICAVISTA</td>\n",
       "      <td>TERRAQUADRAJETBSIII</td>\n",
       "      <td>DIESEL</td>\n",
       "      <td>08-01-2016 00:00</td>\n",
       "      <td>2009</td>\n",
       "      <td>114000</td>\n",
       "      <td>ANDHRAPRADESH</td>\n",
       "      <td>TATA_INDICAVISTA_TERRAQUADRAJETBSIII</td>\n",
       "    </tr>\n",
       "    <tr>\n",
       "      <th>5</th>\n",
       "      <td>TATA</td>\n",
       "      <td>INDICAVISTA</td>\n",
       "      <td>TERRAQUADRAJETBSIII</td>\n",
       "      <td>DIESEL</td>\n",
       "      <td>26-02-2016 00:00</td>\n",
       "      <td>2010</td>\n",
       "      <td>140000</td>\n",
       "      <td>ANDHRAPRADESH</td>\n",
       "      <td>TATA_INDICAVISTA_TERRAQUADRAJETBSIII</td>\n",
       "    </tr>\n",
       "    <tr>\n",
       "      <th>...</th>\n",
       "      <td>...</td>\n",
       "      <td>...</td>\n",
       "      <td>...</td>\n",
       "      <td>...</td>\n",
       "      <td>...</td>\n",
       "      <td>...</td>\n",
       "      <td>...</td>\n",
       "      <td>...</td>\n",
       "      <td>...</td>\n",
       "    </tr>\n",
       "    <tr>\n",
       "      <th>206189</th>\n",
       "      <td>FORCEMOTORS</td>\n",
       "      <td>TOOFANTRAX</td>\n",
       "      <td>DI11STR</td>\n",
       "      <td>DIESEL</td>\n",
       "      <td>12/31/2019</td>\n",
       "      <td>2013</td>\n",
       "      <td>128000</td>\n",
       "      <td>ANDHRAPRADESH</td>\n",
       "      <td>FORCEMOTORS_TOOFANTRAX_DI11STR</td>\n",
       "    </tr>\n",
       "    <tr>\n",
       "      <th>206193</th>\n",
       "      <td>MARUTISUZUKI</td>\n",
       "      <td>ALTO800</td>\n",
       "      <td>LXI</td>\n",
       "      <td>PETROL</td>\n",
       "      <td>12/31/2019</td>\n",
       "      <td>2015</td>\n",
       "      <td>140000</td>\n",
       "      <td>KERALA</td>\n",
       "      <td>MARUTISUZUKI_ALTO800_LXI</td>\n",
       "    </tr>\n",
       "    <tr>\n",
       "      <th>206195</th>\n",
       "      <td>TOYOTA</td>\n",
       "      <td>COROLLAALTIS</td>\n",
       "      <td>J</td>\n",
       "      <td>PETROL</td>\n",
       "      <td>8/27/2019</td>\n",
       "      <td>2008</td>\n",
       "      <td>190000</td>\n",
       "      <td>KARNATAKA</td>\n",
       "      <td>TOYOTA_COROLLAALTIS_J</td>\n",
       "    </tr>\n",
       "    <tr>\n",
       "      <th>206196</th>\n",
       "      <td>TATA</td>\n",
       "      <td>INDICAV2</td>\n",
       "      <td>DLG</td>\n",
       "      <td>DIESEL</td>\n",
       "      <td>18-01-2020 00:00</td>\n",
       "      <td>2016</td>\n",
       "      <td>50000</td>\n",
       "      <td>KARNATAKA</td>\n",
       "      <td>TATA_INDICAV2_DLG</td>\n",
       "    </tr>\n",
       "    <tr>\n",
       "      <th>206197</th>\n",
       "      <td>TATA</td>\n",
       "      <td>INDICAV2</td>\n",
       "      <td>DLG</td>\n",
       "      <td>DIESEL</td>\n",
       "      <td>18-01-2020 00:00</td>\n",
       "      <td>2016</td>\n",
       "      <td>50000</td>\n",
       "      <td>KARNATAKA</td>\n",
       "      <td>TATA_INDICAV2_DLG</td>\n",
       "    </tr>\n",
       "  </tbody>\n",
       "</table>\n",
       "<p>175497 rows × 9 columns</p>\n",
       "</div>"
      ],
      "text/plain": [
       "          Make_Clean   Model_Clean        Variant_Clean Fuel_Clean  \\\n",
       "0               TATA     SUMOVICTA                   LX     DIESEL   \n",
       "1           MAHINDRA        BOLERO                  SLX     DIESEL   \n",
       "2               TATA   INDICAVISTA           AQUA1.4TDI     DIESEL   \n",
       "3               TATA   INDICAVISTA  TERRAQUADRAJETBSIII     DIESEL   \n",
       "5               TATA   INDICAVISTA  TERRAQUADRAJETBSIII     DIESEL   \n",
       "...              ...           ...                  ...        ...   \n",
       "206189   FORCEMOTORS    TOOFANTRAX              DI11STR     DIESEL   \n",
       "206193  MARUTISUZUKI       ALTO800                  LXI     PETROL   \n",
       "206195        TOYOTA  COROLLAALTIS                    J     PETROL   \n",
       "206196          TATA      INDICAV2                  DLG     DIESEL   \n",
       "206197          TATA      INDICAV2                  DLG     DIESEL   \n",
       "\n",
       "               SOLD_DATE  MAKE_YEAR  SOLD AMOUNT CV_State_Clean  \\\n",
       "0       19-08-2015 00:00       2008       150000  ANDHRAPRADESH   \n",
       "1       26-12-2015 00:00       2008       261000  ANDHRAPRADESH   \n",
       "2       08-01-2016 00:00       2010       152000  ANDHRAPRADESH   \n",
       "3       08-01-2016 00:00       2009       114000  ANDHRAPRADESH   \n",
       "5       26-02-2016 00:00       2010       140000  ANDHRAPRADESH   \n",
       "...                  ...        ...          ...            ...   \n",
       "206189        12/31/2019       2013       128000  ANDHRAPRADESH   \n",
       "206193        12/31/2019       2015       140000         KERALA   \n",
       "206195         8/27/2019       2008       190000      KARNATAKA   \n",
       "206196  18-01-2020 00:00       2016        50000      KARNATAKA   \n",
       "206197  18-01-2020 00:00       2016        50000      KARNATAKA   \n",
       "\n",
       "                                         MMV  \n",
       "0                          TATA_SUMOVICTA_LX  \n",
       "1                        MAHINDRA_BOLERO_SLX  \n",
       "2                TATA_INDICAVISTA_AQUA1.4TDI  \n",
       "3       TATA_INDICAVISTA_TERRAQUADRAJETBSIII  \n",
       "5       TATA_INDICAVISTA_TERRAQUADRAJETBSIII  \n",
       "...                                      ...  \n",
       "206189        FORCEMOTORS_TOOFANTRAX_DI11STR  \n",
       "206193              MARUTISUZUKI_ALTO800_LXI  \n",
       "206195                 TOYOTA_COROLLAALTIS_J  \n",
       "206196                     TATA_INDICAV2_DLG  \n",
       "206197                     TATA_INDICAV2_DLG  \n",
       "\n",
       "[175497 rows x 9 columns]"
      ]
     },
     "execution_count": 35,
     "metadata": {},
     "output_type": "execute_result"
    }
   ],
   "source": [
    "df_1"
   ]
  },
  {
   "cell_type": "code",
   "execution_count": 36,
   "id": "376473b1",
   "metadata": {},
   "outputs": [
    {
     "data": {
      "text/plain": [
       "Make_Clean        0\n",
       "Model_Clean       0\n",
       "Variant_Clean     0\n",
       "Fuel_Clean        0\n",
       "SOLD_DATE         0\n",
       "MAKE_YEAR         0\n",
       "SOLD AMOUNT       0\n",
       "CV_State_Clean    0\n",
       "MMV               0\n",
       "dtype: int64"
      ]
     },
     "execution_count": 36,
     "metadata": {},
     "output_type": "execute_result"
    }
   ],
   "source": [
    "df_1.isnull().sum()"
   ]
  },
  {
   "cell_type": "code",
   "execution_count": 37,
   "id": "fb423cbe",
   "metadata": {},
   "outputs": [],
   "source": [
    "df_2=df_1.drop(['MMV','SOLD_DATE'],axis=1)"
   ]
  },
  {
   "cell_type": "code",
   "execution_count": 38,
   "id": "9201b6f8",
   "metadata": {},
   "outputs": [
    {
     "data": {
      "text/html": [
       "<div>\n",
       "<style scoped>\n",
       "    .dataframe tbody tr th:only-of-type {\n",
       "        vertical-align: middle;\n",
       "    }\n",
       "\n",
       "    .dataframe tbody tr th {\n",
       "        vertical-align: top;\n",
       "    }\n",
       "\n",
       "    .dataframe thead th {\n",
       "        text-align: right;\n",
       "    }\n",
       "</style>\n",
       "<table border=\"1\" class=\"dataframe\">\n",
       "  <thead>\n",
       "    <tr style=\"text-align: right;\">\n",
       "      <th></th>\n",
       "      <th>Make_Clean</th>\n",
       "      <th>Model_Clean</th>\n",
       "      <th>Variant_Clean</th>\n",
       "      <th>Fuel_Clean</th>\n",
       "      <th>MAKE_YEAR</th>\n",
       "      <th>SOLD AMOUNT</th>\n",
       "      <th>CV_State_Clean</th>\n",
       "    </tr>\n",
       "  </thead>\n",
       "  <tbody>\n",
       "    <tr>\n",
       "      <th>0</th>\n",
       "      <td>TATA</td>\n",
       "      <td>SUMOVICTA</td>\n",
       "      <td>LX</td>\n",
       "      <td>DIESEL</td>\n",
       "      <td>2008</td>\n",
       "      <td>150000</td>\n",
       "      <td>ANDHRAPRADESH</td>\n",
       "    </tr>\n",
       "    <tr>\n",
       "      <th>1</th>\n",
       "      <td>MAHINDRA</td>\n",
       "      <td>BOLERO</td>\n",
       "      <td>SLX</td>\n",
       "      <td>DIESEL</td>\n",
       "      <td>2008</td>\n",
       "      <td>261000</td>\n",
       "      <td>ANDHRAPRADESH</td>\n",
       "    </tr>\n",
       "    <tr>\n",
       "      <th>2</th>\n",
       "      <td>TATA</td>\n",
       "      <td>INDICAVISTA</td>\n",
       "      <td>AQUA1.4TDI</td>\n",
       "      <td>DIESEL</td>\n",
       "      <td>2010</td>\n",
       "      <td>152000</td>\n",
       "      <td>ANDHRAPRADESH</td>\n",
       "    </tr>\n",
       "    <tr>\n",
       "      <th>3</th>\n",
       "      <td>TATA</td>\n",
       "      <td>INDICAVISTA</td>\n",
       "      <td>TERRAQUADRAJETBSIII</td>\n",
       "      <td>DIESEL</td>\n",
       "      <td>2009</td>\n",
       "      <td>114000</td>\n",
       "      <td>ANDHRAPRADESH</td>\n",
       "    </tr>\n",
       "    <tr>\n",
       "      <th>5</th>\n",
       "      <td>TATA</td>\n",
       "      <td>INDICAVISTA</td>\n",
       "      <td>TERRAQUADRAJETBSIII</td>\n",
       "      <td>DIESEL</td>\n",
       "      <td>2010</td>\n",
       "      <td>140000</td>\n",
       "      <td>ANDHRAPRADESH</td>\n",
       "    </tr>\n",
       "    <tr>\n",
       "      <th>...</th>\n",
       "      <td>...</td>\n",
       "      <td>...</td>\n",
       "      <td>...</td>\n",
       "      <td>...</td>\n",
       "      <td>...</td>\n",
       "      <td>...</td>\n",
       "      <td>...</td>\n",
       "    </tr>\n",
       "    <tr>\n",
       "      <th>206189</th>\n",
       "      <td>FORCEMOTORS</td>\n",
       "      <td>TOOFANTRAX</td>\n",
       "      <td>DI11STR</td>\n",
       "      <td>DIESEL</td>\n",
       "      <td>2013</td>\n",
       "      <td>128000</td>\n",
       "      <td>ANDHRAPRADESH</td>\n",
       "    </tr>\n",
       "    <tr>\n",
       "      <th>206193</th>\n",
       "      <td>MARUTISUZUKI</td>\n",
       "      <td>ALTO800</td>\n",
       "      <td>LXI</td>\n",
       "      <td>PETROL</td>\n",
       "      <td>2015</td>\n",
       "      <td>140000</td>\n",
       "      <td>KERALA</td>\n",
       "    </tr>\n",
       "    <tr>\n",
       "      <th>206195</th>\n",
       "      <td>TOYOTA</td>\n",
       "      <td>COROLLAALTIS</td>\n",
       "      <td>J</td>\n",
       "      <td>PETROL</td>\n",
       "      <td>2008</td>\n",
       "      <td>190000</td>\n",
       "      <td>KARNATAKA</td>\n",
       "    </tr>\n",
       "    <tr>\n",
       "      <th>206196</th>\n",
       "      <td>TATA</td>\n",
       "      <td>INDICAV2</td>\n",
       "      <td>DLG</td>\n",
       "      <td>DIESEL</td>\n",
       "      <td>2016</td>\n",
       "      <td>50000</td>\n",
       "      <td>KARNATAKA</td>\n",
       "    </tr>\n",
       "    <tr>\n",
       "      <th>206197</th>\n",
       "      <td>TATA</td>\n",
       "      <td>INDICAV2</td>\n",
       "      <td>DLG</td>\n",
       "      <td>DIESEL</td>\n",
       "      <td>2016</td>\n",
       "      <td>50000</td>\n",
       "      <td>KARNATAKA</td>\n",
       "    </tr>\n",
       "  </tbody>\n",
       "</table>\n",
       "<p>175497 rows × 7 columns</p>\n",
       "</div>"
      ],
      "text/plain": [
       "          Make_Clean   Model_Clean        Variant_Clean Fuel_Clean  MAKE_YEAR  \\\n",
       "0               TATA     SUMOVICTA                   LX     DIESEL       2008   \n",
       "1           MAHINDRA        BOLERO                  SLX     DIESEL       2008   \n",
       "2               TATA   INDICAVISTA           AQUA1.4TDI     DIESEL       2010   \n",
       "3               TATA   INDICAVISTA  TERRAQUADRAJETBSIII     DIESEL       2009   \n",
       "5               TATA   INDICAVISTA  TERRAQUADRAJETBSIII     DIESEL       2010   \n",
       "...              ...           ...                  ...        ...        ...   \n",
       "206189   FORCEMOTORS    TOOFANTRAX              DI11STR     DIESEL       2013   \n",
       "206193  MARUTISUZUKI       ALTO800                  LXI     PETROL       2015   \n",
       "206195        TOYOTA  COROLLAALTIS                    J     PETROL       2008   \n",
       "206196          TATA      INDICAV2                  DLG     DIESEL       2016   \n",
       "206197          TATA      INDICAV2                  DLG     DIESEL       2016   \n",
       "\n",
       "        SOLD AMOUNT CV_State_Clean  \n",
       "0            150000  ANDHRAPRADESH  \n",
       "1            261000  ANDHRAPRADESH  \n",
       "2            152000  ANDHRAPRADESH  \n",
       "3            114000  ANDHRAPRADESH  \n",
       "5            140000  ANDHRAPRADESH  \n",
       "...             ...            ...  \n",
       "206189       128000  ANDHRAPRADESH  \n",
       "206193       140000         KERALA  \n",
       "206195       190000      KARNATAKA  \n",
       "206196        50000      KARNATAKA  \n",
       "206197        50000      KARNATAKA  \n",
       "\n",
       "[175497 rows x 7 columns]"
      ]
     },
     "execution_count": 38,
     "metadata": {},
     "output_type": "execute_result"
    }
   ],
   "source": [
    "df_2"
   ]
  },
  {
   "cell_type": "code",
   "execution_count": 39,
   "id": "66810be2",
   "metadata": {},
   "outputs": [
    {
     "data": {
      "image/png": "[encoded data removed]",
      "text/plain": [
       "<Figure size 1000x500 with 1 Axes>"
      ]
     },
     "metadata": {},
     "output_type": "display_data"
    }
   ],
   "source": [
    "plt.figure(figsize=(10,5))\n",
    "sns.boxplot(x='MAKE_YEAR',y='SOLD AMOUNT',data=df_2)\n",
    "plt.yscale('log')\n",
    "plt.show()"
   ]
  },
  {
   "cell_type": "code",
   "execution_count": 40,
   "id": "bbe97ba1",
   "metadata": {},
   "outputs": [
    {
     "data": {
      "text/plain": [
       "<AxesSubplot:xlabel='SOLD AMOUNT'>"
      ]
     },
     "execution_count": 40,
     "metadata": {},
     "output_type": "execute_result"
    },
    {
     "data": {
      "image/png": "[encoded data removed]",
      "text/plain": [
       "<Figure size 640x480 with 1 Axes>"
      ]
     },
     "metadata": {},
     "output_type": "display_data"
    }
   ],
   "source": [
    "import seaborn as sns\n",
    "sns.boxplot(x=df_2['SOLD AMOUNT'])"
   ]
  },
  {
   "cell_type": "code",
   "execution_count": 41,
   "id": "aea070fd",
   "metadata": {},
   "outputs": [
    {
     "data": {
      "image/png": "[encoded data removed]",
      "text/plain": [
       "<Figure size 1600x500 with 2 Axes>"
      ]
     },
     "metadata": {},
     "output_type": "display_data"
    }
   ],
   "source": [
    "import warnings\n",
    "warnings.filterwarnings('ignore')\n",
    "plt.figure(figsize=(16,5))\n",
    "plt.subplot(1,2,1)\n",
    "sns.distplot(df_2['SOLD AMOUNT'])\n",
    "plt.subplot(1,2,2)\n",
    "sns.distplot(df_2['MAKE_YEAR'])\n",
    "plt.show()"
   ]
  },
  {
   "cell_type": "code",
   "execution_count": 42,
   "id": "a8f58d20",
   "metadata": {},
   "outputs": [
    {
     "name": "stdout",
     "output_type": "stream",
     "text": [
      "Highest allowed 530293.0194409374\n",
      "Lowest allowed -217788.78740278294\n"
     ]
    }
   ],
   "source": [
    "print(\"Highest allowed\",df_2['SOLD AMOUNT'].mean() + 3*df_2['SOLD AMOUNT'].std())\n",
    "print(\"Lowest allowed\",df_2['SOLD AMOUNT'].mean() - 3*df_2['SOLD AMOUNT'].std())"
   ]
  },
  {
   "cell_type": "code",
   "execution_count": 43,
   "id": "6e60f58a",
   "metadata": {},
   "outputs": [
    {
     "data": {
      "text/html": [
       "<div>\n",
       "<style scoped>\n",
       "    .dataframe tbody tr th:only-of-type {\n",
       "        vertical-align: middle;\n",
       "    }\n",
       "\n",
       "    .dataframe tbody tr th {\n",
       "        vertical-align: top;\n",
       "    }\n",
       "\n",
       "    .dataframe thead th {\n",
       "        text-align: right;\n",
       "    }\n",
       "</style>\n",
       "<table border=\"1\" class=\"dataframe\">\n",
       "  <thead>\n",
       "    <tr style=\"text-align: right;\">\n",
       "      <th></th>\n",
       "      <th>Make_Clean</th>\n",
       "      <th>Model_Clean</th>\n",
       "      <th>Variant_Clean</th>\n",
       "      <th>Fuel_Clean</th>\n",
       "      <th>MAKE_YEAR</th>\n",
       "      <th>SOLD AMOUNT</th>\n",
       "      <th>CV_State_Clean</th>\n",
       "    </tr>\n",
       "  </thead>\n",
       "  <tbody>\n",
       "    <tr>\n",
       "      <th>54</th>\n",
       "      <td>SKODA</td>\n",
       "      <td>SUPERB</td>\n",
       "      <td>2.0ELEGANCETDIAT</td>\n",
       "      <td>DIESEL</td>\n",
       "      <td>2010</td>\n",
       "      <td>560000</td>\n",
       "      <td>KERALA</td>\n",
       "    </tr>\n",
       "    <tr>\n",
       "      <th>74</th>\n",
       "      <td>TOYOTA</td>\n",
       "      <td>INNOVA</td>\n",
       "      <td>2.5G48STR</td>\n",
       "      <td>DIESEL</td>\n",
       "      <td>2011</td>\n",
       "      <td>675000</td>\n",
       "      <td>KERALA</td>\n",
       "    </tr>\n",
       "    <tr>\n",
       "      <th>300</th>\n",
       "      <td>CHEVROLET</td>\n",
       "      <td>TAVERA</td>\n",
       "      <td>NEO3LS10STRBSIV</td>\n",
       "      <td>DIESEL</td>\n",
       "      <td>2013</td>\n",
       "      <td>570000</td>\n",
       "      <td>ANDHRAPRADESH</td>\n",
       "    </tr>\n",
       "    <tr>\n",
       "      <th>313</th>\n",
       "      <td>TOYOTA</td>\n",
       "      <td>INNOVA</td>\n",
       "      <td>2.5E</td>\n",
       "      <td>DIESEL</td>\n",
       "      <td>2010</td>\n",
       "      <td>630000</td>\n",
       "      <td>ANDHRAPRADESH</td>\n",
       "    </tr>\n",
       "    <tr>\n",
       "      <th>359</th>\n",
       "      <td>MARUTISUZUKI</td>\n",
       "      <td>SWIFT</td>\n",
       "      <td>ZDI</td>\n",
       "      <td>DIESEL</td>\n",
       "      <td>2015</td>\n",
       "      <td>593000</td>\n",
       "      <td>TELANGANA</td>\n",
       "    </tr>\n",
       "    <tr>\n",
       "      <th>...</th>\n",
       "      <td>...</td>\n",
       "      <td>...</td>\n",
       "      <td>...</td>\n",
       "      <td>...</td>\n",
       "      <td>...</td>\n",
       "      <td>...</td>\n",
       "      <td>...</td>\n",
       "    </tr>\n",
       "    <tr>\n",
       "      <th>204578</th>\n",
       "      <td>FORCEMOTORS</td>\n",
       "      <td>TOOFANTRAX</td>\n",
       "      <td>DI11STR</td>\n",
       "      <td>DIESEL</td>\n",
       "      <td>2018</td>\n",
       "      <td>545000</td>\n",
       "      <td>TELANGANA</td>\n",
       "    </tr>\n",
       "    <tr>\n",
       "      <th>204591</th>\n",
       "      <td>FORCEMOTORS</td>\n",
       "      <td>TRAXCRUISER</td>\n",
       "      <td>PS</td>\n",
       "      <td>DIESEL</td>\n",
       "      <td>2016</td>\n",
       "      <td>590000</td>\n",
       "      <td>MAHARASHTRA</td>\n",
       "    </tr>\n",
       "    <tr>\n",
       "      <th>205031</th>\n",
       "      <td>MERCEDESBENZ</td>\n",
       "      <td>CLACLASS</td>\n",
       "      <td>CLA200CDISTYLE</td>\n",
       "      <td>DIESEL</td>\n",
       "      <td>2013</td>\n",
       "      <td>1100000</td>\n",
       "      <td>KERALA</td>\n",
       "    </tr>\n",
       "    <tr>\n",
       "      <th>205119</th>\n",
       "      <td>FORCEMOTORS</td>\n",
       "      <td>TOOFANTRAX</td>\n",
       "      <td>DI11STR</td>\n",
       "      <td>DIESEL</td>\n",
       "      <td>2016</td>\n",
       "      <td>540000</td>\n",
       "      <td>ANDHRAPRADESH</td>\n",
       "    </tr>\n",
       "    <tr>\n",
       "      <th>206048</th>\n",
       "      <td>MAHINDRA</td>\n",
       "      <td>TUV300</td>\n",
       "      <td>T4</td>\n",
       "      <td>DIESEL</td>\n",
       "      <td>2018</td>\n",
       "      <td>555000</td>\n",
       "      <td>TELANGANA</td>\n",
       "    </tr>\n",
       "  </tbody>\n",
       "</table>\n",
       "<p>2611 rows × 7 columns</p>\n",
       "</div>"
      ],
      "text/plain": [
       "          Make_Clean  Model_Clean     Variant_Clean Fuel_Clean  MAKE_YEAR  \\\n",
       "54             SKODA       SUPERB  2.0ELEGANCETDIAT     DIESEL       2010   \n",
       "74            TOYOTA       INNOVA         2.5G48STR     DIESEL       2011   \n",
       "300        CHEVROLET       TAVERA   NEO3LS10STRBSIV     DIESEL       2013   \n",
       "313           TOYOTA       INNOVA              2.5E     DIESEL       2010   \n",
       "359     MARUTISUZUKI        SWIFT               ZDI     DIESEL       2015   \n",
       "...              ...          ...               ...        ...        ...   \n",
       "204578   FORCEMOTORS   TOOFANTRAX           DI11STR     DIESEL       2018   \n",
       "204591   FORCEMOTORS  TRAXCRUISER                PS     DIESEL       2016   \n",
       "205031  MERCEDESBENZ     CLACLASS    CLA200CDISTYLE     DIESEL       2013   \n",
       "205119   FORCEMOTORS   TOOFANTRAX           DI11STR     DIESEL       2016   \n",
       "206048      MAHINDRA       TUV300                T4     DIESEL       2018   \n",
       "\n",
       "        SOLD AMOUNT CV_State_Clean  \n",
       "54           560000         KERALA  \n",
       "74           675000         KERALA  \n",
       "300          570000  ANDHRAPRADESH  \n",
       "313          630000  ANDHRAPRADESH  \n",
       "359          593000      TELANGANA  \n",
       "...             ...            ...  \n",
       "204578       545000      TELANGANA  \n",
       "204591       590000    MAHARASHTRA  \n",
       "205031      1100000         KERALA  \n",
       "205119       540000  ANDHRAPRADESH  \n",
       "206048       555000      TELANGANA  \n",
       "\n",
       "[2611 rows x 7 columns]"
      ]
     },
     "execution_count": 43,
     "metadata": {},
     "output_type": "execute_result"
    }
   ],
   "source": [
    "df_2[(df_2['SOLD AMOUNT'] > 530293.01) | (df_2['SOLD AMOUNT'] < -217788.78)]"
   ]
  },
  {
   "cell_type": "code",
   "execution_count": 44,
   "id": "2a76f7f0",
   "metadata": {},
   "outputs": [
    {
     "data": {
      "text/html": [
       "<div>\n",
       "<style scoped>\n",
       "    .dataframe tbody tr th:only-of-type {\n",
       "        vertical-align: middle;\n",
       "    }\n",
       "\n",
       "    .dataframe tbody tr th {\n",
       "        vertical-align: top;\n",
       "    }\n",
       "\n",
       "    .dataframe thead th {\n",
       "        text-align: right;\n",
       "    }\n",
       "</style>\n",
       "<table border=\"1\" class=\"dataframe\">\n",
       "  <thead>\n",
       "    <tr style=\"text-align: right;\">\n",
       "      <th></th>\n",
       "      <th>Make_Clean</th>\n",
       "      <th>Model_Clean</th>\n",
       "      <th>Variant_Clean</th>\n",
       "      <th>Fuel_Clean</th>\n",
       "      <th>MAKE_YEAR</th>\n",
       "      <th>SOLD AMOUNT</th>\n",
       "      <th>CV_State_Clean</th>\n",
       "    </tr>\n",
       "  </thead>\n",
       "  <tbody>\n",
       "    <tr>\n",
       "      <th>0</th>\n",
       "      <td>TATA</td>\n",
       "      <td>SUMOVICTA</td>\n",
       "      <td>LX</td>\n",
       "      <td>DIESEL</td>\n",
       "      <td>2008</td>\n",
       "      <td>150000</td>\n",
       "      <td>ANDHRAPRADESH</td>\n",
       "    </tr>\n",
       "    <tr>\n",
       "      <th>1</th>\n",
       "      <td>MAHINDRA</td>\n",
       "      <td>BOLERO</td>\n",
       "      <td>SLX</td>\n",
       "      <td>DIESEL</td>\n",
       "      <td>2008</td>\n",
       "      <td>261000</td>\n",
       "      <td>ANDHRAPRADESH</td>\n",
       "    </tr>\n",
       "    <tr>\n",
       "      <th>2</th>\n",
       "      <td>TATA</td>\n",
       "      <td>INDICAVISTA</td>\n",
       "      <td>AQUA1.4TDI</td>\n",
       "      <td>DIESEL</td>\n",
       "      <td>2010</td>\n",
       "      <td>152000</td>\n",
       "      <td>ANDHRAPRADESH</td>\n",
       "    </tr>\n",
       "    <tr>\n",
       "      <th>3</th>\n",
       "      <td>TATA</td>\n",
       "      <td>INDICAVISTA</td>\n",
       "      <td>TERRAQUADRAJETBSIII</td>\n",
       "      <td>DIESEL</td>\n",
       "      <td>2009</td>\n",
       "      <td>114000</td>\n",
       "      <td>ANDHRAPRADESH</td>\n",
       "    </tr>\n",
       "    <tr>\n",
       "      <th>5</th>\n",
       "      <td>TATA</td>\n",
       "      <td>INDICAVISTA</td>\n",
       "      <td>TERRAQUADRAJETBSIII</td>\n",
       "      <td>DIESEL</td>\n",
       "      <td>2010</td>\n",
       "      <td>140000</td>\n",
       "      <td>ANDHRAPRADESH</td>\n",
       "    </tr>\n",
       "    <tr>\n",
       "      <th>...</th>\n",
       "      <td>...</td>\n",
       "      <td>...</td>\n",
       "      <td>...</td>\n",
       "      <td>...</td>\n",
       "      <td>...</td>\n",
       "      <td>...</td>\n",
       "      <td>...</td>\n",
       "    </tr>\n",
       "    <tr>\n",
       "      <th>206189</th>\n",
       "      <td>FORCEMOTORS</td>\n",
       "      <td>TOOFANTRAX</td>\n",
       "      <td>DI11STR</td>\n",
       "      <td>DIESEL</td>\n",
       "      <td>2013</td>\n",
       "      <td>128000</td>\n",
       "      <td>ANDHRAPRADESH</td>\n",
       "    </tr>\n",
       "    <tr>\n",
       "      <th>206193</th>\n",
       "      <td>MARUTISUZUKI</td>\n",
       "      <td>ALTO800</td>\n",
       "      <td>LXI</td>\n",
       "      <td>PETROL</td>\n",
       "      <td>2015</td>\n",
       "      <td>140000</td>\n",
       "      <td>KERALA</td>\n",
       "    </tr>\n",
       "    <tr>\n",
       "      <th>206195</th>\n",
       "      <td>TOYOTA</td>\n",
       "      <td>COROLLAALTIS</td>\n",
       "      <td>J</td>\n",
       "      <td>PETROL</td>\n",
       "      <td>2008</td>\n",
       "      <td>190000</td>\n",
       "      <td>KARNATAKA</td>\n",
       "    </tr>\n",
       "    <tr>\n",
       "      <th>206196</th>\n",
       "      <td>TATA</td>\n",
       "      <td>INDICAV2</td>\n",
       "      <td>DLG</td>\n",
       "      <td>DIESEL</td>\n",
       "      <td>2016</td>\n",
       "      <td>50000</td>\n",
       "      <td>KARNATAKA</td>\n",
       "    </tr>\n",
       "    <tr>\n",
       "      <th>206197</th>\n",
       "      <td>TATA</td>\n",
       "      <td>INDICAV2</td>\n",
       "      <td>DLG</td>\n",
       "      <td>DIESEL</td>\n",
       "      <td>2016</td>\n",
       "      <td>50000</td>\n",
       "      <td>KARNATAKA</td>\n",
       "    </tr>\n",
       "  </tbody>\n",
       "</table>\n",
       "<p>172886 rows × 7 columns</p>\n",
       "</div>"
      ],
      "text/plain": [
       "          Make_Clean   Model_Clean        Variant_Clean Fuel_Clean  MAKE_YEAR  \\\n",
       "0               TATA     SUMOVICTA                   LX     DIESEL       2008   \n",
       "1           MAHINDRA        BOLERO                  SLX     DIESEL       2008   \n",
       "2               TATA   INDICAVISTA           AQUA1.4TDI     DIESEL       2010   \n",
       "3               TATA   INDICAVISTA  TERRAQUADRAJETBSIII     DIESEL       2009   \n",
       "5               TATA   INDICAVISTA  TERRAQUADRAJETBSIII     DIESEL       2010   \n",
       "...              ...           ...                  ...        ...        ...   \n",
       "206189   FORCEMOTORS    TOOFANTRAX              DI11STR     DIESEL       2013   \n",
       "206193  MARUTISUZUKI       ALTO800                  LXI     PETROL       2015   \n",
       "206195        TOYOTA  COROLLAALTIS                    J     PETROL       2008   \n",
       "206196          TATA      INDICAV2                  DLG     DIESEL       2016   \n",
       "206197          TATA      INDICAV2                  DLG     DIESEL       2016   \n",
       "\n",
       "        SOLD AMOUNT CV_State_Clean  \n",
       "0            150000  ANDHRAPRADESH  \n",
       "1            261000  ANDHRAPRADESH  \n",
       "2            152000  ANDHRAPRADESH  \n",
       "3            114000  ANDHRAPRADESH  \n",
       "5            140000  ANDHRAPRADESH  \n",
       "...             ...            ...  \n",
       "206189       128000  ANDHRAPRADESH  \n",
       "206193       140000         KERALA  \n",
       "206195       190000      KARNATAKA  \n",
       "206196        50000      KARNATAKA  \n",
       "206197        50000      KARNATAKA  \n",
       "\n",
       "[172886 rows x 7 columns]"
      ]
     },
     "execution_count": 44,
     "metadata": {},
     "output_type": "execute_result"
    }
   ],
   "source": [
    "new_df = df_2[(df_2['SOLD AMOUNT'] < 530293.01) & (df_2['SOLD AMOUNT'] > -217788.78)]\n",
    "new_df"
   ]
  },
  {
   "cell_type": "code",
   "execution_count": 45,
   "id": "f88b87cb",
   "metadata": {},
   "outputs": [],
   "source": [
    "upper_limit = new_df['SOLD AMOUNT'].mean() + 3*df['SOLD AMOUNT'].std()\n",
    "lower_limit = new_df['SOLD AMOUNT'].mean() - 3*df['SOLD AMOUNT'].std()"
   ]
  },
  {
   "cell_type": "code",
   "execution_count": 46,
   "id": "a70d260c",
   "metadata": {},
   "outputs": [
    {
     "data": {
      "text/plain": [
       "513792.0750323168"
      ]
     },
     "execution_count": 46,
     "metadata": {},
     "output_type": "execute_result"
    }
   ],
   "source": [
    "upper_limit"
   ]
  },
  {
   "cell_type": "code",
   "execution_count": 47,
   "id": "7b52e979",
   "metadata": {},
   "outputs": [
    {
     "data": {
      "text/plain": [
       "-216506.16039492568"
      ]
     },
     "execution_count": 47,
     "metadata": {},
     "output_type": "execute_result"
    }
   ],
   "source": [
    "lower_limit"
   ]
  },
  {
   "cell_type": "code",
   "execution_count": 48,
   "id": "1398ea46",
   "metadata": {},
   "outputs": [],
   "source": [
    "new_df['SOLD AMOUNT'] = np.where(\n",
    "    new_df['SOLD AMOUNT']>upper_limit,\n",
    "    upper_limit,\n",
    "    np.where(\n",
    "        new_df['SOLD AMOUNT']<lower_limit,\n",
    "        lower_limit,\n",
    "        new_df['SOLD AMOUNT']\n",
    "    )\n",
    ")"
   ]
  },
  {
   "cell_type": "code",
   "execution_count": 49,
   "id": "c4a693f6",
   "metadata": {},
   "outputs": [
    {
     "data": {
      "text/plain": [
       "count   172886.000\n",
       "mean    148620.913\n",
       "std     107580.657\n",
       "min        145.000\n",
       "25%      65000.000\n",
       "50%     120000.000\n",
       "75%     205000.000\n",
       "max     513792.075\n",
       "Name: SOLD AMOUNT, dtype: float64"
      ]
     },
     "execution_count": 49,
     "metadata": {},
     "output_type": "execute_result"
    }
   ],
   "source": [
    "new_df['SOLD AMOUNT'].describe()"
   ]
  },
  {
   "cell_type": "code",
   "execution_count": 50,
   "id": "277ad59a",
   "metadata": {},
   "outputs": [
    {
     "data": {
      "text/plain": [
       "<AxesSubplot:xlabel='SOLD AMOUNT'>"
      ]
     },
     "execution_count": 50,
     "metadata": {},
     "output_type": "execute_result"
    },
    {
     "data": {
      "image/png": "[encoded data removed]",
      "text/plain": [
       "<Figure size 640x480 with 1 Axes>"
      ]
     },
     "metadata": {},
     "output_type": "display_data"
    }
   ],
   "source": [
    "import seaborn as sns\n",
    "sns.boxplot(x=new_df['SOLD AMOUNT'])"
   ]
  },
  {
   "cell_type": "code",
   "execution_count": 51,
   "id": "42001e2c",
   "metadata": {},
   "outputs": [
    {
     "data": {
      "image/png": "[encoded data removed]",
      "text/plain": [
       "<Figure size 1000x500 with 1 Axes>"
      ]
     },
     "metadata": {},
     "output_type": "display_data"
    }
   ],
   "source": [
    "plt.figure(figsize=(10,5))\n",
    "sns.boxplot(x='MAKE_YEAR',y='SOLD AMOUNT',data=new_df)\n",
    "plt.yscale('log')\n",
    "plt.show()"
   ]
  },
  {
   "cell_type": "code",
   "execution_count": 52,
   "id": "5e304cd4",
   "metadata": {},
   "outputs": [
    {
     "data": {
      "image/png": "[encoded data removed]",
      "text/plain": [
       "<Figure size 1600x500 with 2 Axes>"
      ]
     },
     "metadata": {},
     "output_type": "display_data"
    }
   ],
   "source": [
    "import warnings\n",
    "warnings.filterwarnings('ignore')\n",
    "plt.figure(figsize=(16,5))\n",
    "plt.subplot(1,2,1)\n",
    "sns.distplot(new_df['SOLD AMOUNT'])\n",
    "plt.subplot(1,2,2)\n",
    "sns.distplot(new_df['MAKE_YEAR'])\n",
    "plt.show()"
   ]
  },
  {
   "cell_type": "code",
   "execution_count": 53,
   "id": "1f65e8fa",
   "metadata": {},
   "outputs": [
    {
     "data": {
      "text/html": [
       "<div>\n",
       "<style scoped>\n",
       "    .dataframe tbody tr th:only-of-type {\n",
       "        vertical-align: middle;\n",
       "    }\n",
       "\n",
       "    .dataframe tbody tr th {\n",
       "        vertical-align: top;\n",
       "    }\n",
       "\n",
       "    .dataframe thead th {\n",
       "        text-align: right;\n",
       "    }\n",
       "</style>\n",
       "<table border=\"1\" class=\"dataframe\">\n",
       "  <thead>\n",
       "    <tr style=\"text-align: right;\">\n",
       "      <th></th>\n",
       "      <th>Make_Clean</th>\n",
       "      <th>Model_Clean</th>\n",
       "      <th>Variant_Clean</th>\n",
       "      <th>Fuel_Clean</th>\n",
       "      <th>MAKE_YEAR</th>\n",
       "      <th>SOLD AMOUNT</th>\n",
       "      <th>CV_State_Clean</th>\n",
       "    </tr>\n",
       "  </thead>\n",
       "  <tbody>\n",
       "    <tr>\n",
       "      <th>0</th>\n",
       "      <td>TATA</td>\n",
       "      <td>SUMOVICTA</td>\n",
       "      <td>LX</td>\n",
       "      <td>DIESEL</td>\n",
       "      <td>2008</td>\n",
       "      <td>150000.000</td>\n",
       "      <td>ANDHRAPRADESH</td>\n",
       "    </tr>\n",
       "    <tr>\n",
       "      <th>1</th>\n",
       "      <td>MAHINDRA</td>\n",
       "      <td>BOLERO</td>\n",
       "      <td>SLX</td>\n",
       "      <td>DIESEL</td>\n",
       "      <td>2008</td>\n",
       "      <td>261000.000</td>\n",
       "      <td>ANDHRAPRADESH</td>\n",
       "    </tr>\n",
       "  </tbody>\n",
       "</table>\n",
       "</div>"
      ],
      "text/plain": [
       "  Make_Clean Model_Clean Variant_Clean Fuel_Clean  MAKE_YEAR  SOLD AMOUNT  \\\n",
       "0       TATA   SUMOVICTA            LX     DIESEL       2008   150000.000   \n",
       "1   MAHINDRA      BOLERO           SLX     DIESEL       2008   261000.000   \n",
       "\n",
       "  CV_State_Clean  \n",
       "0  ANDHRAPRADESH  \n",
       "1  ANDHRAPRADESH  "
      ]
     },
     "execution_count": 53,
     "metadata": {},
     "output_type": "execute_result"
    }
   ],
   "source": [
    "new_df.head(2)"
   ]
  },
  {
   "cell_type": "code",
   "execution_count": 54,
   "id": "fcce6b73",
   "metadata": {},
   "outputs": [],
   "source": [
    "new_df.columns=[c.replace(\" \",\"_\")for c in new_df.columns]"
   ]
  },
  {
   "cell_type": "code",
   "execution_count": 55,
   "id": "8905e5c6",
   "metadata": {},
   "outputs": [],
   "source": [
    "df4=new_df.drop(['SOLD_AMOUNT'],axis=1)"
   ]
  },
  {
   "cell_type": "code",
   "execution_count": 56,
   "id": "240d002d",
   "metadata": {},
   "outputs": [],
   "source": [
    "X=df4\n",
    "y=new_df.SOLD_AMOUNT"
   ]
  },
  {
   "cell_type": "code",
   "execution_count": 77,
   "id": "c2d7da5c",
   "metadata": {},
   "outputs": [],
   "source": [
    "from sklearn.model_selection import train_test_split\n",
    "X_train,X_test,y_train,y_test=train_test_split(X,y,test_size=0.2,random_state=42)"
   ]
  },
  {
   "cell_type": "code",
   "execution_count": 78,
   "id": "eb3ee90a",
   "metadata": {},
   "outputs": [
    {
     "data": {
      "text/plain": [
       "195777   150000.000\n",
       "88108    108000.000\n",
       "97965    133000.000\n",
       "124442    75000.000\n",
       "14279    190000.000\n",
       "            ...    \n",
       "103610    64000.000\n",
       "119996    65000.000\n",
       "2900     205000.000\n",
       "55866     55000.000\n",
       "38653     26000.000\n",
       "Name: SOLD_AMOUNT, Length: 34578, dtype: float64"
      ]
     },
     "execution_count": 78,
     "metadata": {},
     "output_type": "execute_result"
    }
   ],
   "source": [
    "y_test"
   ]
  },
  {
   "cell_type": "code",
   "execution_count": 79,
   "id": "c7083572",
   "metadata": {},
   "outputs": [],
   "source": [
    "from sklearn.preprocessing import OneHotEncoder\n",
    "from sklearn.compose import make_column_transformer\n",
    "from sklearn.pipeline import make_pipeline\n",
    "from sklearn.metrics import r2_score"
   ]
  },
  {
   "cell_type": "code",
   "execution_count": 80,
   "id": "d2f01bb6",
   "metadata": {},
   "outputs": [
    {
     "data": {
      "text/html": [
       "<style>#sk-container-id-4 {color: black;background-color: white;}#sk-container-id-4 pre{padding: 0;}#sk-container-id-4 div.sk-toggleable {background-color: white;}#sk-container-id-4 label.sk-toggleable__label {cursor: pointer;display: block;width: 100%;margin-bottom: 0;padding: 0.3em;box-sizing: border-box;text-align: center;}#sk-container-id-4 label.sk-toggleable__label-arrow:before {content: \"▸\";float: left;margin-right: 0.25em;color: #696969;}#sk-container-id-4 label.sk-toggleable__label-arrow:hover:before {color: black;}#sk-container-id-4 div.sk-estimator:hover label.sk-toggleable__label-arrow:before {color: black;}#sk-container-id-4 div.sk-toggleable__content {max-height: 0;max-width: 0;overflow: hidden;text-align: left;background-color: #f0f8ff;}#sk-container-id-4 div.sk-toggleable__content pre {margin: 0.2em;color: black;border-radius: 0.25em;background-color: #f0f8ff;}#sk-container-id-4 input.sk-toggleable__control:checked~div.sk-toggleable__content {max-height: 200px;max-width: 100%;overflow: auto;}#sk-container-id-4 input.sk-toggleable__control:checked~label.sk-toggleable__label-arrow:before {content: \"▾\";}#sk-container-id-4 div.sk-estimator input.sk-toggleable__control:checked~label.sk-toggleable__label {background-color: #d4ebff;}#sk-container-id-4 div.sk-label input.sk-toggleable__control:checked~label.sk-toggleable__label {background-color: #d4ebff;}#sk-container-id-4 input.sk-hidden--visually {border: 0;clip: rect(1px 1px 1px 1px);clip: rect(1px, 1px, 1px, 1px);height: 1px;margin: -1px;overflow: hidden;padding: 0;position: absolute;width: 1px;}#sk-container-id-4 div.sk-estimator {font-family: monospace;background-color: #f0f8ff;border: 1px dotted black;border-radius: 0.25em;box-sizing: border-box;margin-bottom: 0.5em;}#sk-container-id-4 div.sk-estimator:hover {background-color: #d4ebff;}#sk-container-id-4 div.sk-parallel-item::after {content: \"\";width: 100%;border-bottom: 1px solid gray;flex-grow: 1;}#sk-container-id-4 div.sk-label:hover label.sk-toggleable__label {background-color: #d4ebff;}#sk-container-id-4 div.sk-serial::before {content: \"\";position: absolute;border-left: 1px solid gray;box-sizing: border-box;top: 0;bottom: 0;left: 50%;z-index: 0;}#sk-container-id-4 div.sk-serial {display: flex;flex-direction: column;align-items: center;background-color: white;padding-right: 0.2em;padding-left: 0.2em;position: relative;}#sk-container-id-4 div.sk-item {position: relative;z-index: 1;}#sk-container-id-4 div.sk-parallel {display: flex;align-items: stretch;justify-content: center;background-color: white;position: relative;}#sk-container-id-4 div.sk-item::before, #sk-container-id-4 div.sk-parallel-item::before {content: \"\";position: absolute;border-left: 1px solid gray;box-sizing: border-box;top: 0;bottom: 0;left: 50%;z-index: -1;}#sk-container-id-4 div.sk-parallel-item {display: flex;flex-direction: column;z-index: 1;position: relative;background-color: white;}#sk-container-id-4 div.sk-parallel-item:first-child::after {align-self: flex-end;width: 50%;}#sk-container-id-4 div.sk-parallel-item:last-child::after {align-self: flex-start;width: 50%;}#sk-container-id-4 div.sk-parallel-item:only-child::after {width: 0;}#sk-container-id-4 div.sk-dashed-wrapped {border: 1px dashed gray;margin: 0 0.4em 0.5em 0.4em;box-sizing: border-box;padding-bottom: 0.4em;background-color: white;}#sk-container-id-4 div.sk-label label {font-family: monospace;font-weight: bold;display: inline-block;line-height: 1.2em;}#sk-container-id-4 div.sk-label-container {text-align: center;}#sk-container-id-4 div.sk-container {/* jupyter's `normalize.less` sets `[hidden] { display: none; }` but bootstrap.min.css set `[hidden] { display: none !important; }` so we also need the `!important` here to be able to override the default hidden behavior on the sphinx rendered scikit-learn.org. See: https://github.com/scikit-learn/scikit-learn/issues/21755 */display: inline-block !important;position: relative;}#sk-container-id-4 div.sk-text-repr-fallback {display: none;}</style><div id=\"sk-container-id-4\" class=\"sk-top-container\"><div class=\"sk-text-repr-fallback\"><pre>OneHotEncoder()</pre><b>In a Jupyter environment, please rerun this cell to show the HTML representation or trust the notebook. <br />On GitHub, the HTML representation is unable to render, please try loading this page with nbviewer.org.</b></div><div class=\"sk-container\" hidden><div class=\"sk-item\"><div class=\"sk-estimator sk-toggleable\"><input class=\"sk-toggleable__control sk-hidden--visually\" id=\"sk-estimator-id-14\" type=\"checkbox\" checked><label for=\"sk-estimator-id-14\" class=\"sk-toggleable__label sk-toggleable__label-arrow\">OneHotEncoder</label><div class=\"sk-toggleable__content\"><pre>OneHotEncoder()</pre></div></div></div></div></div>"
      ],
      "text/plain": [
       "OneHotEncoder()"
      ]
     },
     "execution_count": 80,
     "metadata": {},
     "output_type": "execute_result"
    }
   ],
   "source": [
    "ohe=OneHotEncoder()\n",
    "ohe.fit(X[['Make_Clean','Model_Clean','Variant_Clean','Fuel_Clean','CV_State_Clean']])"
   ]
  },
  {
   "cell_type": "code",
   "execution_count": 81,
   "id": "1569401d",
   "metadata": {},
   "outputs": [],
   "source": [
    "column_trans=make_column_transformer((OneHotEncoder(categories=ohe.categories_),['Make_Clean','Model_Clean','Variant_Clean','Fuel_Clean','CV_State_Clean']),remainder='passthrough')"
   ]
  },
  {
   "cell_type": "code",
   "execution_count": 82,
   "id": "6fe8191b",
   "metadata": {},
   "outputs": [
    {
     "data": {
      "text/html": [
       "<style>#sk-container-id-5 {color: black;background-color: white;}#sk-container-id-5 pre{padding: 0;}#sk-container-id-5 div.sk-toggleable {background-color: white;}#sk-container-id-5 label.sk-toggleable__label {cursor: pointer;display: block;width: 100%;margin-bottom: 0;padding: 0.3em;box-sizing: border-box;text-align: center;}#sk-container-id-5 label.sk-toggleable__label-arrow:before {content: \"▸\";float: left;margin-right: 0.25em;color: #696969;}#sk-container-id-5 label.sk-toggleable__label-arrow:hover:before {color: black;}#sk-container-id-5 div.sk-estimator:hover label.sk-toggleable__label-arrow:before {color: black;}#sk-container-id-5 div.sk-toggleable__content {max-height: 0;max-width: 0;overflow: hidden;text-align: left;background-color: #f0f8ff;}#sk-container-id-5 div.sk-toggleable__content pre {margin: 0.2em;color: black;border-radius: 0.25em;background-color: #f0f8ff;}#sk-container-id-5 input.sk-toggleable__control:checked~div.sk-toggleable__content {max-height: 200px;max-width: 100%;overflow: auto;}#sk-container-id-5 input.sk-toggleable__control:checked~label.sk-toggleable__label-arrow:before {content: \"▾\";}#sk-container-id-5 div.sk-estimator input.sk-toggleable__control:checked~label.sk-toggleable__label {background-color: #d4ebff;}#sk-container-id-5 div.sk-label input.sk-toggleable__control:checked~label.sk-toggleable__label {background-color: #d4ebff;}#sk-container-id-5 input.sk-hidden--visually {border: 0;clip: rect(1px 1px 1px 1px);clip: rect(1px, 1px, 1px, 1px);height: 1px;margin: -1px;overflow: hidden;padding: 0;position: absolute;width: 1px;}#sk-container-id-5 div.sk-estimator {font-family: monospace;background-color: #f0f8ff;border: 1px dotted black;border-radius: 0.25em;box-sizing: border-box;margin-bottom: 0.5em;}#sk-container-id-5 div.sk-estimator:hover {background-color: #d4ebff;}#sk-container-id-5 div.sk-parallel-item::after {content: \"\";width: 100%;border-bottom: 1px solid gray;flex-grow: 1;}#sk-container-id-5 div.sk-label:hover label.sk-toggleable__label {background-color: #d4ebff;}#sk-container-id-5 div.sk-serial::before {content: \"\";position: absolute;border-left: 1px solid gray;box-sizing: border-box;top: 0;bottom: 0;left: 50%;z-index: 0;}#sk-container-id-5 div.sk-serial {display: flex;flex-direction: column;align-items: center;background-color: white;padding-right: 0.2em;padding-left: 0.2em;position: relative;}#sk-container-id-5 div.sk-item {position: relative;z-index: 1;}#sk-container-id-5 div.sk-parallel {display: flex;align-items: stretch;justify-content: center;background-color: white;position: relative;}#sk-container-id-5 div.sk-item::before, #sk-container-id-5 div.sk-parallel-item::before {content: \"\";position: absolute;border-left: 1px solid gray;box-sizing: border-box;top: 0;bottom: 0;left: 50%;z-index: -1;}#sk-container-id-5 div.sk-parallel-item {display: flex;flex-direction: column;z-index: 1;position: relative;background-color: white;}#sk-container-id-5 div.sk-parallel-item:first-child::after {align-self: flex-end;width: 50%;}#sk-container-id-5 div.sk-parallel-item:last-child::after {align-self: flex-start;width: 50%;}#sk-container-id-5 div.sk-parallel-item:only-child::after {width: 0;}#sk-container-id-5 div.sk-dashed-wrapped {border: 1px dashed gray;margin: 0 0.4em 0.5em 0.4em;box-sizing: border-box;padding-bottom: 0.4em;background-color: white;}#sk-container-id-5 div.sk-label label {font-family: monospace;font-weight: bold;display: inline-block;line-height: 1.2em;}#sk-container-id-5 div.sk-label-container {text-align: center;}#sk-container-id-5 div.sk-container {/* jupyter's `normalize.less` sets `[hidden] { display: none; }` but bootstrap.min.css set `[hidden] { display: none !important; }` so we also need the `!important` here to be able to override the default hidden behavior on the sphinx rendered scikit-learn.org. See: https://github.com/scikit-learn/scikit-learn/issues/21755 */display: inline-block !important;position: relative;}#sk-container-id-5 div.sk-text-repr-fallback {display: none;}</style><div id=\"sk-container-id-5\" class=\"sk-top-container\"><div class=\"sk-text-repr-fallback\"><pre>ColumnTransformer(remainder=&#x27;passthrough&#x27;,\n",
       "                  transformers=[(&#x27;onehotencoder&#x27;,\n",
       "                                 OneHotEncoder(categories=[array([&#x27;ASHOKLEYLAND&#x27;, &#x27;CHEVROLET&#x27;, &#x27;DATSUN&#x27;, &#x27;FIAT&#x27;, &#x27;FORCEMOTORS&#x27;,\n",
       "       &#x27;FORD&#x27;, &#x27;HINDUSTANMOTORS&#x27;, &#x27;HONDA&#x27;, &#x27;HYUNDAI&#x27;, &#x27;MAHINDRA&#x27;,\n",
       "       &#x27;MAHINDRARENAULT&#x27;, &#x27;MARUTISUZUKI&#x27;, &#x27;MERCEDESBENZ&#x27;, &#x27;MITSUBISHI&#x27;,\n",
       "       &#x27;NISSAN&#x27;, &#x27;OPEL&#x27;, &#x27;PREMIER&#x27;, &#x27;RENAULT&#x27;, &#x27;SKODA&#x27;, &#x27;SONALIK&#x27;, &#x27;TATA&#x27;,\n",
       "       &#x27;TOYOTA&#x27;, &#x27;V...\n",
       "       &#x27;HIMACHALPRADESH&#x27;, &#x27;JAMMUANDKASHMIR&#x27;, &#x27;JHARKHAND&#x27;, &#x27;KARNATAKA&#x27;,\n",
       "       &#x27;KERALA&#x27;, &#x27;MADHYAPRADESH&#x27;, &#x27;MAHARASHTRA&#x27;, &#x27;MANIPUR&#x27;, &#x27;MEGHALAYA&#x27;,\n",
       "       &#x27;MIZORAM&#x27;, &#x27;ODISHA&#x27;, &#x27;PUDUCHERRY&#x27;, &#x27;PUNJAB&#x27;, &#x27;RAJASTHAN&#x27;, &#x27;SIKKIM&#x27;,\n",
       "       &#x27;TAMILNADU&#x27;, &#x27;TELANGANA&#x27;, &#x27;TRIPURA&#x27;, &#x27;UTTARAKHAND&#x27;, &#x27;UTTARPRADESH&#x27;,\n",
       "       &#x27;WESTBENGAL&#x27;], dtype=object)]),\n",
       "                                 [&#x27;Make_Clean&#x27;, &#x27;Model_Clean&#x27;, &#x27;Variant_Clean&#x27;,\n",
       "                                  &#x27;Fuel_Clean&#x27;, &#x27;CV_State_Clean&#x27;])])</pre><b>In a Jupyter environment, please rerun this cell to show the HTML representation or trust the notebook. <br />On GitHub, the HTML representation is unable to render, please try loading this page with nbviewer.org.</b></div><div class=\"sk-container\" hidden><div class=\"sk-item sk-dashed-wrapped\"><div class=\"sk-label-container\"><div class=\"sk-label sk-toggleable\"><input class=\"sk-toggleable__control sk-hidden--visually\" id=\"sk-estimator-id-15\" type=\"checkbox\" ><label for=\"sk-estimator-id-15\" class=\"sk-toggleable__label sk-toggleable__label-arrow\">ColumnTransformer</label><div class=\"sk-toggleable__content\"><pre>ColumnTransformer(remainder=&#x27;passthrough&#x27;,\n",
       "                  transformers=[(&#x27;onehotencoder&#x27;,\n",
       "                                 OneHotEncoder(categories=[array([&#x27;ASHOKLEYLAND&#x27;, &#x27;CHEVROLET&#x27;, &#x27;DATSUN&#x27;, &#x27;FIAT&#x27;, &#x27;FORCEMOTORS&#x27;,\n",
       "       &#x27;FORD&#x27;, &#x27;HINDUSTANMOTORS&#x27;, &#x27;HONDA&#x27;, &#x27;HYUNDAI&#x27;, &#x27;MAHINDRA&#x27;,\n",
       "       &#x27;MAHINDRARENAULT&#x27;, &#x27;MARUTISUZUKI&#x27;, &#x27;MERCEDESBENZ&#x27;, &#x27;MITSUBISHI&#x27;,\n",
       "       &#x27;NISSAN&#x27;, &#x27;OPEL&#x27;, &#x27;PREMIER&#x27;, &#x27;RENAULT&#x27;, &#x27;SKODA&#x27;, &#x27;SONALIK&#x27;, &#x27;TATA&#x27;,\n",
       "       &#x27;TOYOTA&#x27;, &#x27;V...\n",
       "       &#x27;HIMACHALPRADESH&#x27;, &#x27;JAMMUANDKASHMIR&#x27;, &#x27;JHARKHAND&#x27;, &#x27;KARNATAKA&#x27;,\n",
       "       &#x27;KERALA&#x27;, &#x27;MADHYAPRADESH&#x27;, &#x27;MAHARASHTRA&#x27;, &#x27;MANIPUR&#x27;, &#x27;MEGHALAYA&#x27;,\n",
       "       &#x27;MIZORAM&#x27;, &#x27;ODISHA&#x27;, &#x27;PUDUCHERRY&#x27;, &#x27;PUNJAB&#x27;, &#x27;RAJASTHAN&#x27;, &#x27;SIKKIM&#x27;,\n",
       "       &#x27;TAMILNADU&#x27;, &#x27;TELANGANA&#x27;, &#x27;TRIPURA&#x27;, &#x27;UTTARAKHAND&#x27;, &#x27;UTTARPRADESH&#x27;,\n",
       "       &#x27;WESTBENGAL&#x27;], dtype=object)]),\n",
       "                                 [&#x27;Make_Clean&#x27;, &#x27;Model_Clean&#x27;, &#x27;Variant_Clean&#x27;,\n",
       "                                  &#x27;Fuel_Clean&#x27;, &#x27;CV_State_Clean&#x27;])])</pre></div></div></div><div class=\"sk-parallel\"><div class=\"sk-parallel-item\"><div class=\"sk-item\"><div class=\"sk-label-container\"><div class=\"sk-label sk-toggleable\"><input class=\"sk-toggleable__control sk-hidden--visually\" id=\"sk-estimator-id-16\" type=\"checkbox\" ><label for=\"sk-estimator-id-16\" class=\"sk-toggleable__label sk-toggleable__label-arrow\">onehotencoder</label><div class=\"sk-toggleable__content\"><pre>[&#x27;Make_Clean&#x27;, &#x27;Model_Clean&#x27;, &#x27;Variant_Clean&#x27;, &#x27;Fuel_Clean&#x27;, &#x27;CV_State_Clean&#x27;]</pre></div></div></div><div class=\"sk-serial\"><div class=\"sk-item\"><div class=\"sk-estimator sk-toggleable\"><input class=\"sk-toggleable__control sk-hidden--visually\" id=\"sk-estimator-id-17\" type=\"checkbox\" ><label for=\"sk-estimator-id-17\" class=\"sk-toggleable__label sk-toggleable__label-arrow\">OneHotEncoder</label><div class=\"sk-toggleable__content\"><pre>OneHotEncoder(categories=[array([&#x27;ASHOKLEYLAND&#x27;, &#x27;CHEVROLET&#x27;, &#x27;DATSUN&#x27;, &#x27;FIAT&#x27;, &#x27;FORCEMOTORS&#x27;,\n",
       "       &#x27;FORD&#x27;, &#x27;HINDUSTANMOTORS&#x27;, &#x27;HONDA&#x27;, &#x27;HYUNDAI&#x27;, &#x27;MAHINDRA&#x27;,\n",
       "       &#x27;MAHINDRARENAULT&#x27;, &#x27;MARUTISUZUKI&#x27;, &#x27;MERCEDESBENZ&#x27;, &#x27;MITSUBISHI&#x27;,\n",
       "       &#x27;NISSAN&#x27;, &#x27;OPEL&#x27;, &#x27;PREMIER&#x27;, &#x27;RENAULT&#x27;, &#x27;SKODA&#x27;, &#x27;SONALIK&#x27;, &#x27;TATA&#x27;,\n",
       "       &#x27;TOYOTA&#x27;, &#x27;VOLKSWAGEN&#x27;], dtype=object),\n",
       "                          array([&#x27;800&#x27;, &#x27;ACCENT&#x27;, &#x27;ALTO&#x27;, &#x27;ALTO800&#x27;, &#x27;ALTOK10...\n",
       "       &#x27;BIHAR&#x27;, &#x27;CHANDIGARH&#x27;, &#x27;CHHATTISGARH&#x27;, &#x27;DADARANDNAGARHAVELI&#x27;,\n",
       "       &#x27;DAMANANDDIU&#x27;, &#x27;DELHI&#x27;, &#x27;GOA&#x27;, &#x27;GUJARAT&#x27;, &#x27;HARYANA&#x27;,\n",
       "       &#x27;HIMACHALPRADESH&#x27;, &#x27;JAMMUANDKASHMIR&#x27;, &#x27;JHARKHAND&#x27;, &#x27;KARNATAKA&#x27;,\n",
       "       &#x27;KERALA&#x27;, &#x27;MADHYAPRADESH&#x27;, &#x27;MAHARASHTRA&#x27;, &#x27;MANIPUR&#x27;, &#x27;MEGHALAYA&#x27;,\n",
       "       &#x27;MIZORAM&#x27;, &#x27;ODISHA&#x27;, &#x27;PUDUCHERRY&#x27;, &#x27;PUNJAB&#x27;, &#x27;RAJASTHAN&#x27;, &#x27;SIKKIM&#x27;,\n",
       "       &#x27;TAMILNADU&#x27;, &#x27;TELANGANA&#x27;, &#x27;TRIPURA&#x27;, &#x27;UTTARAKHAND&#x27;, &#x27;UTTARPRADESH&#x27;,\n",
       "       &#x27;WESTBENGAL&#x27;], dtype=object)])</pre></div></div></div></div></div></div><div class=\"sk-parallel-item\"><div class=\"sk-item\"><div class=\"sk-label-container\"><div class=\"sk-label sk-toggleable\"><input class=\"sk-toggleable__control sk-hidden--visually\" id=\"sk-estimator-id-18\" type=\"checkbox\" ><label for=\"sk-estimator-id-18\" class=\"sk-toggleable__label sk-toggleable__label-arrow\">remainder</label><div class=\"sk-toggleable__content\"><pre></pre></div></div></div><div class=\"sk-serial\"><div class=\"sk-item\"><div class=\"sk-estimator sk-toggleable\"><input class=\"sk-toggleable__control sk-hidden--visually\" id=\"sk-estimator-id-19\" type=\"checkbox\" ><label for=\"sk-estimator-id-19\" class=\"sk-toggleable__label sk-toggleable__label-arrow\">passthrough</label><div class=\"sk-toggleable__content\"><pre>passthrough</pre></div></div></div></div></div></div></div></div></div></div>"
      ],
      "text/plain": [
       "ColumnTransformer(remainder='passthrough',\n",
       "                  transformers=[('onehotencoder',\n",
       "                                 OneHotEncoder(categories=[array(['ASHOKLEYLAND', 'CHEVROLET', 'DATSUN', 'FIAT', 'FORCEMOTORS',\n",
       "       'FORD', 'HINDUSTANMOTORS', 'HONDA', 'HYUNDAI', 'MAHINDRA',\n",
       "       'MAHINDRARENAULT', 'MARUTISUZUKI', 'MERCEDESBENZ', 'MITSUBISHI',\n",
       "       'NISSAN', 'OPEL', 'PREMIER', 'RENAULT', 'SKODA', 'SONALIK', 'TATA',\n",
       "       'TOYOTA', 'V...\n",
       "       'HIMACHALPRADESH', 'JAMMUANDKASHMIR', 'JHARKHAND', 'KARNATAKA',\n",
       "       'KERALA', 'MADHYAPRADESH', 'MAHARASHTRA', 'MANIPUR', 'MEGHALAYA',\n",
       "       'MIZORAM', 'ODISHA', 'PUDUCHERRY', 'PUNJAB', 'RAJASTHAN', 'SIKKIM',\n",
       "       'TAMILNADU', 'TELANGANA', 'TRIPURA', 'UTTARAKHAND', 'UTTARPRADESH',\n",
       "       'WESTBENGAL'], dtype=object)]),\n",
       "                                 ['Make_Clean', 'Model_Clean', 'Variant_Clean',\n",
       "                                  'Fuel_Clean', 'CV_State_Clean'])])"
      ]
     },
     "execution_count": 82,
     "metadata": {},
     "output_type": "execute_result"
    }
   ],
   "source": [
    "column_trans"
   ]
  },
  {
   "cell_type": "code",
   "execution_count": 83,
   "id": "69f0394b",
   "metadata": {},
   "outputs": [],
   "source": [
    "from sklearn import model_selection\n",
    "from xgboost import XGBRegressor\n",
    "\n",
    "regressor=XGBRegressor(max_depth=15,learning_rate=0.001,\n",
    "                   n_estimators=5000,\n",
    "                   objective='reg:linear',\n",
    "                   booster='gbtree')\n",
    "\n",
    "\n",
    "# from sklearn import model_selection\n",
    "# from xgboost import XGBRegressor\n",
    "\n",
    "# model=XGBRegressor()\n",
    "\n",
    "# n_estimators = [100, 500, 900, 1100, 1500]\n",
    "# booster=['gbtree','gblinear']\n",
    "# base_score=[0.25,0.5,0.75,1]\n",
    "# parameters= n_estimators = [100, 500,900]\n",
    "# max_depth = [2, 3, 5, 10, 15]\n",
    "# # booster=['gbtree','gblinear']\n",
    "# learning_rate=[0.05,0.1,0.15,0.20]\n",
    "# min_child_weight=[1,2,3,4]\n",
    "\n",
    "\n",
    "\n",
    "# # Define the grid of hyperparameters to search\n",
    "# hyperparameter_grid = {\n",
    "#     'n_estimators': n_estimators,\n",
    "#     'max_depth':max_depth,\n",
    "#     'learning_rate':learning_rate,\n",
    "#     'min_child_weight':min_child_weight,\n",
    "#     'booster':booster,\n",
    "#     'base_score':base_score\n",
    "#     }\n",
    "\n",
    "# # Set up the random search with 5-fold cross validation\n",
    "# from sklearn.model_selection import RandomizedSearchCV\n",
    "# random_cv = RandomizedSearchCV(estimator=model,\n",
    "#             param_distributions=hyperparameter_grid,                \n",
    "#             cv=5, n_iter=50,\n",
    "#             scoring = 'neg_mean_absolute_error',n_jobs = 4,\n",
    "#             verbose = 5,\n",
    "#             return_train_score = True,\n",
    "#             random_state=42)"
   ]
  },
  {
   "cell_type": "code",
   "execution_count": 84,
   "id": "2aa8c997",
   "metadata": {},
   "outputs": [],
   "source": [
    "pipe=make_pipeline(column_trans,regressor)"
   ]
  },
  {
   "cell_type": "code",
   "execution_count": 85,
   "id": "02f49c31",
   "metadata": {},
   "outputs": [
    {
     "name": "stdout",
     "output_type": "stream",
     "text": [
      "[16:03:39] WARNING: C:/Users/administrator/workspace/xgboost-win64_release_1.6.0/src/objective/regression_obj.cu:203: reg:linear is now deprecated in favor of reg:squarederror.\n"
     ]
    },
    {
     "data": {
      "text/html": [
       "<style>#sk-container-id-6 {color: black;background-color: white;}#sk-container-id-6 pre{padding: 0;}#sk-container-id-6 div.sk-toggleable {background-color: white;}#sk-container-id-6 label.sk-toggleable__label {cursor: pointer;display: block;width: 100%;margin-bottom: 0;padding: 0.3em;box-sizing: border-box;text-align: center;}#sk-container-id-6 label.sk-toggleable__label-arrow:before {content: \"▸\";float: left;margin-right: 0.25em;color: #696969;}#sk-container-id-6 label.sk-toggleable__label-arrow:hover:before {color: black;}#sk-container-id-6 div.sk-estimator:hover label.sk-toggleable__label-arrow:before {color: black;}#sk-container-id-6 div.sk-toggleable__content {max-height: 0;max-width: 0;overflow: hidden;text-align: left;background-color: #f0f8ff;}#sk-container-id-6 div.sk-toggleable__content pre {margin: 0.2em;color: black;border-radius: 0.25em;background-color: #f0f8ff;}#sk-container-id-6 input.sk-toggleable__control:checked~div.sk-toggleable__content {max-height: 200px;max-width: 100%;overflow: auto;}#sk-container-id-6 input.sk-toggleable__control:checked~label.sk-toggleable__label-arrow:before {content: \"▾\";}#sk-container-id-6 div.sk-estimator input.sk-toggleable__control:checked~label.sk-toggleable__label {background-color: #d4ebff;}#sk-container-id-6 div.sk-label input.sk-toggleable__control:checked~label.sk-toggleable__label {background-color: #d4ebff;}#sk-container-id-6 input.sk-hidden--visually {border: 0;clip: rect(1px 1px 1px 1px);clip: rect(1px, 1px, 1px, 1px);height: 1px;margin: -1px;overflow: hidden;padding: 0;position: absolute;width: 1px;}#sk-container-id-6 div.sk-estimator {font-family: monospace;background-color: #f0f8ff;border: 1px dotted black;border-radius: 0.25em;box-sizing: border-box;margin-bottom: 0.5em;}#sk-container-id-6 div.sk-estimator:hover {background-color: #d4ebff;}#sk-container-id-6 div.sk-parallel-item::after {content: \"\";width: 100%;border-bottom: 1px solid gray;flex-grow: 1;}#sk-container-id-6 div.sk-label:hover label.sk-toggleable__label {background-color: #d4ebff;}#sk-container-id-6 div.sk-serial::before {content: \"\";position: absolute;border-left: 1px solid gray;box-sizing: border-box;top: 0;bottom: 0;left: 50%;z-index: 0;}#sk-container-id-6 div.sk-serial {display: flex;flex-direction: column;align-items: center;background-color: white;padding-right: 0.2em;padding-left: 0.2em;position: relative;}#sk-container-id-6 div.sk-item {position: relative;z-index: 1;}#sk-container-id-6 div.sk-parallel {display: flex;align-items: stretch;justify-content: center;background-color: white;position: relative;}#sk-container-id-6 div.sk-item::before, #sk-container-id-6 div.sk-parallel-item::before {content: \"\";position: absolute;border-left: 1px solid gray;box-sizing: border-box;top: 0;bottom: 0;left: 50%;z-index: -1;}#sk-container-id-6 div.sk-parallel-item {display: flex;flex-direction: column;z-index: 1;position: relative;background-color: white;}#sk-container-id-6 div.sk-parallel-item:first-child::after {align-self: flex-end;width: 50%;}#sk-container-id-6 div.sk-parallel-item:last-child::after {align-self: flex-start;width: 50%;}#sk-container-id-6 div.sk-parallel-item:only-child::after {width: 0;}#sk-container-id-6 div.sk-dashed-wrapped {border: 1px dashed gray;margin: 0 0.4em 0.5em 0.4em;box-sizing: border-box;padding-bottom: 0.4em;background-color: white;}#sk-container-id-6 div.sk-label label {font-family: monospace;font-weight: bold;display: inline-block;line-height: 1.2em;}#sk-container-id-6 div.sk-label-container {text-align: center;}#sk-container-id-6 div.sk-container {/* jupyter's `normalize.less` sets `[hidden] { display: none; }` but bootstrap.min.css set `[hidden] { display: none !important; }` so we also need the `!important` here to be able to override the default hidden behavior on the sphinx rendered scikit-learn.org. See: https://github.com/scikit-learn/scikit-learn/issues/21755 */display: inline-block !important;position: relative;}#sk-container-id-6 div.sk-text-repr-fallback {display: none;}</style><div id=\"sk-container-id-6\" class=\"sk-top-container\"><div class=\"sk-text-repr-fallback\"><pre>Pipeline(steps=[(&#x27;columntransformer&#x27;,\n",
       "                 ColumnTransformer(remainder=&#x27;passthrough&#x27;,\n",
       "                                   transformers=[(&#x27;onehotencoder&#x27;,\n",
       "                                                  OneHotEncoder(categories=[array([&#x27;ASHOKLEYLAND&#x27;, &#x27;CHEVROLET&#x27;, &#x27;DATSUN&#x27;, &#x27;FIAT&#x27;, &#x27;FORCEMOTORS&#x27;,\n",
       "       &#x27;FORD&#x27;, &#x27;HINDUSTANMOTORS&#x27;, &#x27;HONDA&#x27;, &#x27;HYUNDAI&#x27;, &#x27;MAHINDRA&#x27;,\n",
       "       &#x27;MAHINDRARENAULT&#x27;, &#x27;MARUTISUZUKI&#x27;, &#x27;MERCEDESBENZ&#x27;, &#x27;MITSUBISHI&#x27;,\n",
       "       &#x27;NISSAN&#x27;, &#x27;OPEL&#x27;, &#x27;PREMIER&#x27;, &#x27;RENAULT&#x27;...\n",
       "                              gamma=0, gpu_id=-1, grow_policy=&#x27;depthwise&#x27;,\n",
       "                              importance_type=None, interaction_constraints=&#x27;&#x27;,\n",
       "                              learning_rate=0.001, max_bin=256,\n",
       "                              max_cat_to_onehot=4, max_delta_step=0,\n",
       "                              max_depth=15, max_leaves=0, min_child_weight=1,\n",
       "                              missing=nan, monotone_constraints=&#x27;()&#x27;,\n",
       "                              n_estimators=5000, n_jobs=0, num_parallel_tree=1,\n",
       "                              objective=&#x27;reg:linear&#x27;, predictor=&#x27;auto&#x27;,\n",
       "                              random_state=0, reg_alpha=0, ...))])</pre><b>In a Jupyter environment, please rerun this cell to show the HTML representation or trust the notebook. <br />On GitHub, the HTML representation is unable to render, please try loading this page with nbviewer.org.</b></div><div class=\"sk-container\" hidden><div class=\"sk-item sk-dashed-wrapped\"><div class=\"sk-label-container\"><div class=\"sk-label sk-toggleable\"><input class=\"sk-toggleable__control sk-hidden--visually\" id=\"sk-estimator-id-20\" type=\"checkbox\" ><label for=\"sk-estimator-id-20\" class=\"sk-toggleable__label sk-toggleable__label-arrow\">Pipeline</label><div class=\"sk-toggleable__content\"><pre>Pipeline(steps=[(&#x27;columntransformer&#x27;,\n",
       "                 ColumnTransformer(remainder=&#x27;passthrough&#x27;,\n",
       "                                   transformers=[(&#x27;onehotencoder&#x27;,\n",
       "                                                  OneHotEncoder(categories=[array([&#x27;ASHOKLEYLAND&#x27;, &#x27;CHEVROLET&#x27;, &#x27;DATSUN&#x27;, &#x27;FIAT&#x27;, &#x27;FORCEMOTORS&#x27;,\n",
       "       &#x27;FORD&#x27;, &#x27;HINDUSTANMOTORS&#x27;, &#x27;HONDA&#x27;, &#x27;HYUNDAI&#x27;, &#x27;MAHINDRA&#x27;,\n",
       "       &#x27;MAHINDRARENAULT&#x27;, &#x27;MARUTISUZUKI&#x27;, &#x27;MERCEDESBENZ&#x27;, &#x27;MITSUBISHI&#x27;,\n",
       "       &#x27;NISSAN&#x27;, &#x27;OPEL&#x27;, &#x27;PREMIER&#x27;, &#x27;RENAULT&#x27;...\n",
       "                              gamma=0, gpu_id=-1, grow_policy=&#x27;depthwise&#x27;,\n",
       "                              importance_type=None, interaction_constraints=&#x27;&#x27;,\n",
       "                              learning_rate=0.001, max_bin=256,\n",
       "                              max_cat_to_onehot=4, max_delta_step=0,\n",
       "                              max_depth=15, max_leaves=0, min_child_weight=1,\n",
       "                              missing=nan, monotone_constraints=&#x27;()&#x27;,\n",
       "                              n_estimators=5000, n_jobs=0, num_parallel_tree=1,\n",
       "                              objective=&#x27;reg:linear&#x27;, predictor=&#x27;auto&#x27;,\n",
       "                              random_state=0, reg_alpha=0, ...))])</pre></div></div></div><div class=\"sk-serial\"><div class=\"sk-item sk-dashed-wrapped\"><div class=\"sk-label-container\"><div class=\"sk-label sk-toggleable\"><input class=\"sk-toggleable__control sk-hidden--visually\" id=\"sk-estimator-id-21\" type=\"checkbox\" ><label for=\"sk-estimator-id-21\" class=\"sk-toggleable__label sk-toggleable__label-arrow\">columntransformer: ColumnTransformer</label><div class=\"sk-toggleable__content\"><pre>ColumnTransformer(remainder=&#x27;passthrough&#x27;,\n",
       "                  transformers=[(&#x27;onehotencoder&#x27;,\n",
       "                                 OneHotEncoder(categories=[array([&#x27;ASHOKLEYLAND&#x27;, &#x27;CHEVROLET&#x27;, &#x27;DATSUN&#x27;, &#x27;FIAT&#x27;, &#x27;FORCEMOTORS&#x27;,\n",
       "       &#x27;FORD&#x27;, &#x27;HINDUSTANMOTORS&#x27;, &#x27;HONDA&#x27;, &#x27;HYUNDAI&#x27;, &#x27;MAHINDRA&#x27;,\n",
       "       &#x27;MAHINDRARENAULT&#x27;, &#x27;MARUTISUZUKI&#x27;, &#x27;MERCEDESBENZ&#x27;, &#x27;MITSUBISHI&#x27;,\n",
       "       &#x27;NISSAN&#x27;, &#x27;OPEL&#x27;, &#x27;PREMIER&#x27;, &#x27;RENAULT&#x27;, &#x27;SKODA&#x27;, &#x27;SONALIK&#x27;, &#x27;TATA&#x27;,\n",
       "       &#x27;TOYOTA&#x27;, &#x27;V...\n",
       "       &#x27;HIMACHALPRADESH&#x27;, &#x27;JAMMUANDKASHMIR&#x27;, &#x27;JHARKHAND&#x27;, &#x27;KARNATAKA&#x27;,\n",
       "       &#x27;KERALA&#x27;, &#x27;MADHYAPRADESH&#x27;, &#x27;MAHARASHTRA&#x27;, &#x27;MANIPUR&#x27;, &#x27;MEGHALAYA&#x27;,\n",
       "       &#x27;MIZORAM&#x27;, &#x27;ODISHA&#x27;, &#x27;PUDUCHERRY&#x27;, &#x27;PUNJAB&#x27;, &#x27;RAJASTHAN&#x27;, &#x27;SIKKIM&#x27;,\n",
       "       &#x27;TAMILNADU&#x27;, &#x27;TELANGANA&#x27;, &#x27;TRIPURA&#x27;, &#x27;UTTARAKHAND&#x27;, &#x27;UTTARPRADESH&#x27;,\n",
       "       &#x27;WESTBENGAL&#x27;], dtype=object)]),\n",
       "                                 [&#x27;Make_Clean&#x27;, &#x27;Model_Clean&#x27;, &#x27;Variant_Clean&#x27;,\n",
       "                                  &#x27;Fuel_Clean&#x27;, &#x27;CV_State_Clean&#x27;])])</pre></div></div></div><div class=\"sk-parallel\"><div class=\"sk-parallel-item\"><div class=\"sk-item\"><div class=\"sk-label-container\"><div class=\"sk-label sk-toggleable\"><input class=\"sk-toggleable__control sk-hidden--visually\" id=\"sk-estimator-id-22\" type=\"checkbox\" ><label for=\"sk-estimator-id-22\" class=\"sk-toggleable__label sk-toggleable__label-arrow\">onehotencoder</label><div class=\"sk-toggleable__content\"><pre>[&#x27;Make_Clean&#x27;, &#x27;Model_Clean&#x27;, &#x27;Variant_Clean&#x27;, &#x27;Fuel_Clean&#x27;, &#x27;CV_State_Clean&#x27;]</pre></div></div></div><div class=\"sk-serial\"><div class=\"sk-item\"><div class=\"sk-estimator sk-toggleable\"><input class=\"sk-toggleable__control sk-hidden--visually\" id=\"sk-estimator-id-23\" type=\"checkbox\" ><label for=\"sk-estimator-id-23\" class=\"sk-toggleable__label sk-toggleable__label-arrow\">OneHotEncoder</label><div class=\"sk-toggleable__content\"><pre>OneHotEncoder(categories=[array([&#x27;ASHOKLEYLAND&#x27;, &#x27;CHEVROLET&#x27;, &#x27;DATSUN&#x27;, &#x27;FIAT&#x27;, &#x27;FORCEMOTORS&#x27;,\n",
       "       &#x27;FORD&#x27;, &#x27;HINDUSTANMOTORS&#x27;, &#x27;HONDA&#x27;, &#x27;HYUNDAI&#x27;, &#x27;MAHINDRA&#x27;,\n",
       "       &#x27;MAHINDRARENAULT&#x27;, &#x27;MARUTISUZUKI&#x27;, &#x27;MERCEDESBENZ&#x27;, &#x27;MITSUBISHI&#x27;,\n",
       "       &#x27;NISSAN&#x27;, &#x27;OPEL&#x27;, &#x27;PREMIER&#x27;, &#x27;RENAULT&#x27;, &#x27;SKODA&#x27;, &#x27;SONALIK&#x27;, &#x27;TATA&#x27;,\n",
       "       &#x27;TOYOTA&#x27;, &#x27;VOLKSWAGEN&#x27;], dtype=object),\n",
       "                          array([&#x27;800&#x27;, &#x27;ACCENT&#x27;, &#x27;ALTO&#x27;, &#x27;ALTO800&#x27;, &#x27;ALTOK10...\n",
       "       &#x27;BIHAR&#x27;, &#x27;CHANDIGARH&#x27;, &#x27;CHHATTISGARH&#x27;, &#x27;DADARANDNAGARHAVELI&#x27;,\n",
       "       &#x27;DAMANANDDIU&#x27;, &#x27;DELHI&#x27;, &#x27;GOA&#x27;, &#x27;GUJARAT&#x27;, &#x27;HARYANA&#x27;,\n",
       "       &#x27;HIMACHALPRADESH&#x27;, &#x27;JAMMUANDKASHMIR&#x27;, &#x27;JHARKHAND&#x27;, &#x27;KARNATAKA&#x27;,\n",
       "       &#x27;KERALA&#x27;, &#x27;MADHYAPRADESH&#x27;, &#x27;MAHARASHTRA&#x27;, &#x27;MANIPUR&#x27;, &#x27;MEGHALAYA&#x27;,\n",
       "       &#x27;MIZORAM&#x27;, &#x27;ODISHA&#x27;, &#x27;PUDUCHERRY&#x27;, &#x27;PUNJAB&#x27;, &#x27;RAJASTHAN&#x27;, &#x27;SIKKIM&#x27;,\n",
       "       &#x27;TAMILNADU&#x27;, &#x27;TELANGANA&#x27;, &#x27;TRIPURA&#x27;, &#x27;UTTARAKHAND&#x27;, &#x27;UTTARPRADESH&#x27;,\n",
       "       &#x27;WESTBENGAL&#x27;], dtype=object)])</pre></div></div></div></div></div></div><div class=\"sk-parallel-item\"><div class=\"sk-item\"><div class=\"sk-label-container\"><div class=\"sk-label sk-toggleable\"><input class=\"sk-toggleable__control sk-hidden--visually\" id=\"sk-estimator-id-24\" type=\"checkbox\" ><label for=\"sk-estimator-id-24\" class=\"sk-toggleable__label sk-toggleable__label-arrow\">remainder</label><div class=\"sk-toggleable__content\"><pre>[&#x27;MAKE_YEAR&#x27;]</pre></div></div></div><div class=\"sk-serial\"><div class=\"sk-item\"><div class=\"sk-estimator sk-toggleable\"><input class=\"sk-toggleable__control sk-hidden--visually\" id=\"sk-estimator-id-25\" type=\"checkbox\" ><label for=\"sk-estimator-id-25\" class=\"sk-toggleable__label sk-toggleable__label-arrow\">passthrough</label><div class=\"sk-toggleable__content\"><pre>passthrough</pre></div></div></div></div></div></div></div></div><div class=\"sk-item\"><div class=\"sk-estimator sk-toggleable\"><input class=\"sk-toggleable__control sk-hidden--visually\" id=\"sk-estimator-id-26\" type=\"checkbox\" ><label for=\"sk-estimator-id-26\" class=\"sk-toggleable__label sk-toggleable__label-arrow\">XGBRegressor</label><div class=\"sk-toggleable__content\"><pre>XGBRegressor(base_score=0.5, booster=&#x27;gbtree&#x27;, callbacks=None,\n",
       "             colsample_bylevel=1, colsample_bynode=1, colsample_bytree=1,\n",
       "             early_stopping_rounds=None, enable_categorical=False,\n",
       "             eval_metric=None, gamma=0, gpu_id=-1, grow_policy=&#x27;depthwise&#x27;,\n",
       "             importance_type=None, interaction_constraints=&#x27;&#x27;,\n",
       "             learning_rate=0.001, max_bin=256, max_cat_to_onehot=4,\n",
       "             max_delta_step=0, max_depth=15, max_leaves=0, min_child_weight=1,\n",
       "             missing=nan, monotone_constraints=&#x27;()&#x27;, n_estimators=5000,\n",
       "             n_jobs=0, num_parallel_tree=1, objective=&#x27;reg:linear&#x27;,\n",
       "             predictor=&#x27;auto&#x27;, random_state=0, reg_alpha=0, ...)</pre></div></div></div></div></div></div></div>"
      ],
      "text/plain": [
       "Pipeline(steps=[('columntransformer',\n",
       "                 ColumnTransformer(remainder='passthrough',\n",
       "                                   transformers=[('onehotencoder',\n",
       "                                                  OneHotEncoder(categories=[array(['ASHOKLEYLAND', 'CHEVROLET', 'DATSUN', 'FIAT', 'FORCEMOTORS',\n",
       "       'FORD', 'HINDUSTANMOTORS', 'HONDA', 'HYUNDAI', 'MAHINDRA',\n",
       "       'MAHINDRARENAULT', 'MARUTISUZUKI', 'MERCEDESBENZ', 'MITSUBISHI',\n",
       "       'NISSAN', 'OPEL', 'PREMIER', 'RENAULT'...\n",
       "                              gamma=0, gpu_id=-1, grow_policy='depthwise',\n",
       "                              importance_type=None, interaction_constraints='',\n",
       "                              learning_rate=0.001, max_bin=256,\n",
       "                              max_cat_to_onehot=4, max_delta_step=0,\n",
       "                              max_depth=15, max_leaves=0, min_child_weight=1,\n",
       "                              missing=nan, monotone_constraints='()',\n",
       "                              n_estimators=5000, n_jobs=0, num_parallel_tree=1,\n",
       "                              objective='reg:linear', predictor='auto',\n",
       "                              random_state=0, reg_alpha=0, ...))])"
      ]
     },
     "execution_count": 85,
     "metadata": {},
     "output_type": "execute_result"
    }
   ],
   "source": [
    "pipe.fit(X_train,y_train)"
   ]
  },
  {
   "cell_type": "code",
   "execution_count": 86,
   "id": "e8961e7d",
   "metadata": {},
   "outputs": [
    {
     "data": {
      "text/plain": [
       "array([128174.73,  91108.16, 130062.25, ..., 156253.27, 102342.69,\n",
       "        80578.54], dtype=float32)"
      ]
     },
     "execution_count": 86,
     "metadata": {},
     "output_type": "execute_result"
    }
   ],
   "source": [
    "y_pred=pipe.predict(X_test)\n",
    "y_pred"
   ]
  },
  {
   "cell_type": "code",
   "execution_count": 87,
   "id": "ddcde8e0",
   "metadata": {},
   "outputs": [
    {
     "data": {
      "text/plain": [
       "array([347940.03 ,  64475.418,  33950.746, ...,  87145.94 , 143719.14 ,\n",
       "       151289.17 ], dtype=float32)"
      ]
     },
     "execution_count": 87,
     "metadata": {},
     "output_type": "execute_result"
    }
   ],
   "source": [
    "y_train_pred=pipe.predict(X_train)\n",
    "y_train_pred"
   ]
  },
  {
   "cell_type": "code",
   "execution_count": 88,
   "id": "d72e66c8",
   "metadata": {},
   "outputs": [
    {
     "data": {
      "text/plain": [
       "0.7048844554849196"
      ]
     },
     "execution_count": 88,
     "metadata": {},
     "output_type": "execute_result"
    }
   ],
   "source": [
    "r2_score(y_train,y_train_pred)"
   ]
  },
  {
   "cell_type": "code",
   "execution_count": 89,
   "id": "b08dcca5",
   "metadata": {},
   "outputs": [
    {
     "data": {
      "text/plain": [
       "0.67002281394489"
      ]
     },
     "execution_count": 89,
     "metadata": {},
     "output_type": "execute_result"
    }
   ],
   "source": [
    "r2_score(y_test,y_pred)"
   ]
  },
  {
   "cell_type": "code",
   "execution_count": 90,
   "id": "bee414fa",
   "metadata": {},
   "outputs": [
    {
     "data": {
      "text/plain": [
       "(172886, 6)"
      ]
     },
     "execution_count": 90,
     "metadata": {},
     "output_type": "execute_result"
    }
   ],
   "source": [
    "df4.shape"
   ]
  },
  {
   "cell_type": "code",
   "execution_count": null,
   "id": "ed0016ba",
   "metadata": {},
   "outputs": [],
   "source": []
  },
  {
   "cell_type": "code",
   "execution_count": null,
   "id": "7178982b",
   "metadata": {},
   "outputs": [],
   "source": []
  },
  {
   "cell_type": "code",
   "execution_count": null,
   "id": "616f34f4",
   "metadata": {},
   "outputs": [],
   "source": []
  }
 ],
 "metadata": {
  "kernelspec": {
   "display_name": "Python 3 (ipykernel)",
   "language": "python",
   "name": "python3"
  },
  "language_info": {
   "codemirror_mode": {
    "name": "ipython",
    "version": 3
   },
   "file_extension": ".py",
   "mimetype": "text/x-python",
   "name": "python",
   "nbconvert_exporter": "python",
   "pygments_lexer": "ipython3",
   "version": "3.10.7"
  }
 },
 "nbformat": 4,
 "nbformat_minor": 5
}
